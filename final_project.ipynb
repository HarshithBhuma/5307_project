{
  "cells": [
    {
      "cell_type": "markdown",
      "metadata": {
        "id": "view-in-github",
        "colab_type": "text"
      },
      "source": [
        "<a href=\"https://colab.research.google.com/github/HarshithBhuma/5307_project/blob/main/final_project.ipynb\" target=\"_parent\"><img src=\"https://colab.research.google.com/assets/colab-badge.svg\" alt=\"Open In Colab\"/></a>"
      ]
    },
    {
      "cell_type": "code",
      "execution_count": null,
      "id": "5fc9872a",
      "metadata": {
        "id": "5fc9872a"
      },
      "outputs": [],
      "source": [
        "import numpy as np\n",
        "import pandas as pd\n",
        "import matplotlib.pyplot as plt\n",
        "import seaborn as sns"
      ]
    },
    {
      "cell_type": "code",
      "execution_count": null,
      "id": "bcf036e1",
      "metadata": {
        "id": "bcf036e1",
        "outputId": "0fdbd0c4-9b7a-4bfb-af8b-41739e88c142"
      },
      "outputs": [
        {
          "name": "stdout",
          "output_type": "stream",
          "text": [
            "Requirement already satisfied: xlrd in c:\\users\\harsh\\anaconda3\\lib\\site-packages (2.0.1)\n",
            "Note: you may need to restart the kernel to use updated packages.\n"
          ]
        }
      ],
      "source": [
        "pip install xlrd"
      ]
    },
    {
      "cell_type": "code",
      "execution_count": null,
      "id": "10c052a2",
      "metadata": {
        "id": "10c052a2",
        "outputId": "3d76119f-1742-495c-d8d2-ffed4bf9f638"
      },
      "outputs": [
        {
          "name": "stdout",
          "output_type": "stream",
          "text": [
            "Requirement already satisfied: openpyxl in c:\\users\\harsh\\anaconda3\\lib\\site-packages (3.0.10)\n",
            "Requirement already satisfied: et_xmlfile in c:\\users\\harsh\\anaconda3\\lib\\site-packages (from openpyxl) (1.1.0)\n",
            "Note: you may need to restart the kernel to use updated packages.\n"
          ]
        }
      ],
      "source": [
        "pip install openpyxl"
      ]
    },
    {
      "cell_type": "code",
      "execution_count": null,
      "id": "a638bd29",
      "metadata": {
        "id": "a638bd29"
      },
      "outputs": [],
      "source": [
        "data_dictionary = pd.read_excel(\"C:/Users/harsh/OneDrive/Documents/5307/Data_Dictionary.xlsx\")\n",
        "first_health_camp = pd.read_csv(\"C:/Users/harsh/OneDrive/Documents/5307/First_Health_Camp_Attended.csv\")\n",
        "health_camp_details = pd.read_csv(\"C:/Users/harsh/OneDrive/Documents/5307/Health_Camp_Detail.csv\")\n",
        "patient_profile = pd.read_csv(\"C:/Users/harsh/OneDrive/Documents/5307/Patient_Profile.csv\")\n",
        "second_health_camp = pd.read_csv(\"C:/Users/harsh/OneDrive/Documents/5307/Second_Health_Camp_Attended.csv\")\n",
        "third_health_camp = pd.read_csv(\"C:/Users/harsh/OneDrive/Documents/5307/Third_Health_Camp_Attended.csv\")\n",
        "train = pd.read_csv(\"C:/Users/harsh/OneDrive/Documents/5307/Train.csv\")\n",
        "test = pd.read_csv(\"C:/Users/harsh/OneDrive/Documents/5307/test.csv\")"
      ]
    },
    {
      "cell_type": "code",
      "execution_count": null,
      "id": "cc4c23e5",
      "metadata": {
        "id": "cc4c23e5",
        "outputId": "b1b77763-a1a6-46f5-d6ff-07493803dc23"
      },
      "outputs": [
        {
          "data": {
            "text/html": [
              "<div>\n",
              "<style scoped>\n",
              "    .dataframe tbody tr th:only-of-type {\n",
              "        vertical-align: middle;\n",
              "    }\n",
              "\n",
              "    .dataframe tbody tr th {\n",
              "        vertical-align: top;\n",
              "    }\n",
              "\n",
              "    .dataframe thead th {\n",
              "        text-align: right;\n",
              "    }\n",
              "</style>\n",
              "<table border=\"1\" class=\"dataframe\">\n",
              "  <thead>\n",
              "    <tr style=\"text-align: right;\">\n",
              "      <th></th>\n",
              "      <th>Details of the Files</th>\n",
              "    </tr>\n",
              "  </thead>\n",
              "  <tbody>\n",
              "    <tr>\n",
              "      <th>0</th>\n",
              "      <td>Health_Camp_Detail.csv – File containing Healt...</td>\n",
              "    </tr>\n",
              "    <tr>\n",
              "      <th>1</th>\n",
              "      <td>Train.csv – File containing registration detai...</td>\n",
              "    </tr>\n",
              "    <tr>\n",
              "      <th>2</th>\n",
              "      <td>Patient_Profile.csv – This file contains Patie...</td>\n",
              "    </tr>\n",
              "    <tr>\n",
              "      <th>3</th>\n",
              "      <td>First_Health_Camp_Attended.csv – This file con...</td>\n",
              "    </tr>\n",
              "    <tr>\n",
              "      <th>4</th>\n",
              "      <td>Second_Health_Camp_Attended.csv - This file co...</td>\n",
              "    </tr>\n",
              "  </tbody>\n",
              "</table>\n",
              "</div>"
            ],
            "text/plain": [
              "                                Details of the Files\n",
              "0  Health_Camp_Detail.csv – File containing Healt...\n",
              "1  Train.csv – File containing registration detai...\n",
              "2  Patient_Profile.csv – This file contains Patie...\n",
              "3  First_Health_Camp_Attended.csv – This file con...\n",
              "4  Second_Health_Camp_Attended.csv - This file co..."
            ]
          },
          "execution_count": 5,
          "metadata": {},
          "output_type": "execute_result"
        }
      ],
      "source": [
        "data_dictionary.head()"
      ]
    },
    {
      "cell_type": "code",
      "execution_count": null,
      "id": "8af056f4",
      "metadata": {
        "id": "8af056f4",
        "outputId": "35bb48c7-06b4-4b42-c911-0f9d282bb7fa"
      },
      "outputs": [
        {
          "data": {
            "text/html": [
              "<div>\n",
              "<style scoped>\n",
              "    .dataframe tbody tr th:only-of-type {\n",
              "        vertical-align: middle;\n",
              "    }\n",
              "\n",
              "    .dataframe tbody tr th {\n",
              "        vertical-align: top;\n",
              "    }\n",
              "\n",
              "    .dataframe thead th {\n",
              "        text-align: right;\n",
              "    }\n",
              "</style>\n",
              "<table border=\"1\" class=\"dataframe\">\n",
              "  <thead>\n",
              "    <tr style=\"text-align: right;\">\n",
              "      <th></th>\n",
              "      <th>Patient_ID</th>\n",
              "      <th>Health_Camp_ID</th>\n",
              "      <th>Donation</th>\n",
              "      <th>Health_Score</th>\n",
              "      <th>Unnamed: 4</th>\n",
              "    </tr>\n",
              "  </thead>\n",
              "  <tbody>\n",
              "    <tr>\n",
              "      <th>0</th>\n",
              "      <td>506181</td>\n",
              "      <td>6560</td>\n",
              "      <td>40</td>\n",
              "      <td>0.439024</td>\n",
              "      <td>NaN</td>\n",
              "    </tr>\n",
              "    <tr>\n",
              "      <th>1</th>\n",
              "      <td>494977</td>\n",
              "      <td>6560</td>\n",
              "      <td>20</td>\n",
              "      <td>0.097561</td>\n",
              "      <td>NaN</td>\n",
              "    </tr>\n",
              "    <tr>\n",
              "      <th>2</th>\n",
              "      <td>518680</td>\n",
              "      <td>6560</td>\n",
              "      <td>10</td>\n",
              "      <td>0.048780</td>\n",
              "      <td>NaN</td>\n",
              "    </tr>\n",
              "    <tr>\n",
              "      <th>3</th>\n",
              "      <td>509916</td>\n",
              "      <td>6560</td>\n",
              "      <td>30</td>\n",
              "      <td>0.634146</td>\n",
              "      <td>NaN</td>\n",
              "    </tr>\n",
              "    <tr>\n",
              "      <th>4</th>\n",
              "      <td>488006</td>\n",
              "      <td>6560</td>\n",
              "      <td>20</td>\n",
              "      <td>0.024390</td>\n",
              "      <td>NaN</td>\n",
              "    </tr>\n",
              "  </tbody>\n",
              "</table>\n",
              "</div>"
            ],
            "text/plain": [
              "   Patient_ID  Health_Camp_ID  Donation  Health_Score  Unnamed: 4\n",
              "0      506181            6560        40      0.439024         NaN\n",
              "1      494977            6560        20      0.097561         NaN\n",
              "2      518680            6560        10      0.048780         NaN\n",
              "3      509916            6560        30      0.634146         NaN\n",
              "4      488006            6560        20      0.024390         NaN"
            ]
          },
          "execution_count": 6,
          "metadata": {},
          "output_type": "execute_result"
        }
      ],
      "source": [
        "first_health_camp.head()"
      ]
    },
    {
      "cell_type": "code",
      "execution_count": null,
      "id": "ecda8cce",
      "metadata": {
        "id": "ecda8cce",
        "outputId": "5f25f473-b1b6-4d30-94e0-51d9e5d85fc7"
      },
      "outputs": [
        {
          "data": {
            "text/html": [
              "<div>\n",
              "<style scoped>\n",
              "    .dataframe tbody tr th:only-of-type {\n",
              "        vertical-align: middle;\n",
              "    }\n",
              "\n",
              "    .dataframe tbody tr th {\n",
              "        vertical-align: top;\n",
              "    }\n",
              "\n",
              "    .dataframe thead th {\n",
              "        text-align: right;\n",
              "    }\n",
              "</style>\n",
              "<table border=\"1\" class=\"dataframe\">\n",
              "  <thead>\n",
              "    <tr style=\"text-align: right;\">\n",
              "      <th></th>\n",
              "      <th>Health_Camp_ID</th>\n",
              "      <th>Camp_Start_Date</th>\n",
              "      <th>Camp_End_Date</th>\n",
              "      <th>Category1</th>\n",
              "      <th>Category2</th>\n",
              "      <th>Category3</th>\n",
              "    </tr>\n",
              "  </thead>\n",
              "  <tbody>\n",
              "    <tr>\n",
              "      <th>0</th>\n",
              "      <td>6560</td>\n",
              "      <td>16-Aug-03</td>\n",
              "      <td>20-Aug-03</td>\n",
              "      <td>First</td>\n",
              "      <td>B</td>\n",
              "      <td>2</td>\n",
              "    </tr>\n",
              "    <tr>\n",
              "      <th>1</th>\n",
              "      <td>6530</td>\n",
              "      <td>16-Aug-03</td>\n",
              "      <td>28-Oct-03</td>\n",
              "      <td>First</td>\n",
              "      <td>C</td>\n",
              "      <td>2</td>\n",
              "    </tr>\n",
              "    <tr>\n",
              "      <th>2</th>\n",
              "      <td>6544</td>\n",
              "      <td>03-Nov-03</td>\n",
              "      <td>15-Nov-03</td>\n",
              "      <td>First</td>\n",
              "      <td>F</td>\n",
              "      <td>1</td>\n",
              "    </tr>\n",
              "    <tr>\n",
              "      <th>3</th>\n",
              "      <td>6585</td>\n",
              "      <td>22-Nov-03</td>\n",
              "      <td>05-Dec-03</td>\n",
              "      <td>First</td>\n",
              "      <td>E</td>\n",
              "      <td>2</td>\n",
              "    </tr>\n",
              "    <tr>\n",
              "      <th>4</th>\n",
              "      <td>6561</td>\n",
              "      <td>30-Nov-03</td>\n",
              "      <td>18-Dec-03</td>\n",
              "      <td>First</td>\n",
              "      <td>E</td>\n",
              "      <td>1</td>\n",
              "    </tr>\n",
              "  </tbody>\n",
              "</table>\n",
              "</div>"
            ],
            "text/plain": [
              "   Health_Camp_ID Camp_Start_Date Camp_End_Date Category1 Category2  Category3\n",
              "0            6560       16-Aug-03     20-Aug-03     First         B          2\n",
              "1            6530       16-Aug-03     28-Oct-03     First         C          2\n",
              "2            6544       03-Nov-03     15-Nov-03     First         F          1\n",
              "3            6585       22-Nov-03     05-Dec-03     First         E          2\n",
              "4            6561       30-Nov-03     18-Dec-03     First         E          1"
            ]
          },
          "execution_count": 7,
          "metadata": {},
          "output_type": "execute_result"
        }
      ],
      "source": [
        "health_camp_details.head()"
      ]
    },
    {
      "cell_type": "code",
      "execution_count": null,
      "id": "0ba474ec",
      "metadata": {
        "id": "0ba474ec",
        "outputId": "18e84386-bf72-4be0-8a36-3f99e7eb8e3c"
      },
      "outputs": [
        {
          "data": {
            "text/html": [
              "<div>\n",
              "<style scoped>\n",
              "    .dataframe tbody tr th:only-of-type {\n",
              "        vertical-align: middle;\n",
              "    }\n",
              "\n",
              "    .dataframe tbody tr th {\n",
              "        vertical-align: top;\n",
              "    }\n",
              "\n",
              "    .dataframe thead th {\n",
              "        text-align: right;\n",
              "    }\n",
              "</style>\n",
              "<table border=\"1\" class=\"dataframe\">\n",
              "  <thead>\n",
              "    <tr style=\"text-align: right;\">\n",
              "      <th></th>\n",
              "      <th>Patient_ID</th>\n",
              "      <th>Online_Follower</th>\n",
              "      <th>LinkedIn_Shared</th>\n",
              "      <th>Twitter_Shared</th>\n",
              "      <th>Facebook_Shared</th>\n",
              "      <th>Income</th>\n",
              "      <th>Education_Score</th>\n",
              "      <th>Age</th>\n",
              "      <th>First_Interaction</th>\n",
              "      <th>City_Type</th>\n",
              "      <th>Employer_Category</th>\n",
              "    </tr>\n",
              "  </thead>\n",
              "  <tbody>\n",
              "    <tr>\n",
              "      <th>0</th>\n",
              "      <td>516956</td>\n",
              "      <td>0</td>\n",
              "      <td>0</td>\n",
              "      <td>0</td>\n",
              "      <td>0</td>\n",
              "      <td>1</td>\n",
              "      <td>90</td>\n",
              "      <td>39</td>\n",
              "      <td>18-Jun-03</td>\n",
              "      <td>NaN</td>\n",
              "      <td>Software Industry</td>\n",
              "    </tr>\n",
              "    <tr>\n",
              "      <th>1</th>\n",
              "      <td>507733</td>\n",
              "      <td>0</td>\n",
              "      <td>0</td>\n",
              "      <td>0</td>\n",
              "      <td>0</td>\n",
              "      <td>1</td>\n",
              "      <td>None</td>\n",
              "      <td>40</td>\n",
              "      <td>20-Jul-03</td>\n",
              "      <td>H</td>\n",
              "      <td>Software Industry</td>\n",
              "    </tr>\n",
              "    <tr>\n",
              "      <th>2</th>\n",
              "      <td>508307</td>\n",
              "      <td>0</td>\n",
              "      <td>0</td>\n",
              "      <td>0</td>\n",
              "      <td>0</td>\n",
              "      <td>3</td>\n",
              "      <td>87</td>\n",
              "      <td>46</td>\n",
              "      <td>02-Nov-02</td>\n",
              "      <td>D</td>\n",
              "      <td>BFSI</td>\n",
              "    </tr>\n",
              "    <tr>\n",
              "      <th>3</th>\n",
              "      <td>512612</td>\n",
              "      <td>0</td>\n",
              "      <td>0</td>\n",
              "      <td>0</td>\n",
              "      <td>0</td>\n",
              "      <td>1</td>\n",
              "      <td>75</td>\n",
              "      <td>47</td>\n",
              "      <td>02-Nov-02</td>\n",
              "      <td>D</td>\n",
              "      <td>Education</td>\n",
              "    </tr>\n",
              "    <tr>\n",
              "      <th>4</th>\n",
              "      <td>521075</td>\n",
              "      <td>0</td>\n",
              "      <td>0</td>\n",
              "      <td>0</td>\n",
              "      <td>0</td>\n",
              "      <td>3</td>\n",
              "      <td>None</td>\n",
              "      <td>80</td>\n",
              "      <td>24-Nov-02</td>\n",
              "      <td>H</td>\n",
              "      <td>Others</td>\n",
              "    </tr>\n",
              "  </tbody>\n",
              "</table>\n",
              "</div>"
            ],
            "text/plain": [
              "   Patient_ID  Online_Follower  LinkedIn_Shared  Twitter_Shared  \\\n",
              "0      516956                0                0               0   \n",
              "1      507733                0                0               0   \n",
              "2      508307                0                0               0   \n",
              "3      512612                0                0               0   \n",
              "4      521075                0                0               0   \n",
              "\n",
              "   Facebook_Shared Income Education_Score Age First_Interaction City_Type  \\\n",
              "0                0      1              90  39         18-Jun-03       NaN   \n",
              "1                0      1            None  40         20-Jul-03         H   \n",
              "2                0      3              87  46         02-Nov-02         D   \n",
              "3                0      1              75  47         02-Nov-02         D   \n",
              "4                0      3            None  80         24-Nov-02         H   \n",
              "\n",
              "   Employer_Category  \n",
              "0  Software Industry  \n",
              "1  Software Industry  \n",
              "2               BFSI  \n",
              "3          Education  \n",
              "4             Others  "
            ]
          },
          "execution_count": 8,
          "metadata": {},
          "output_type": "execute_result"
        }
      ],
      "source": [
        "patient_profile.head()"
      ]
    },
    {
      "cell_type": "code",
      "execution_count": null,
      "id": "03a886a4",
      "metadata": {
        "id": "03a886a4",
        "outputId": "768b59ea-e49e-44b8-c5a1-c2e2f02a390d"
      },
      "outputs": [
        {
          "data": {
            "text/html": [
              "<div>\n",
              "<style scoped>\n",
              "    .dataframe tbody tr th:only-of-type {\n",
              "        vertical-align: middle;\n",
              "    }\n",
              "\n",
              "    .dataframe tbody tr th {\n",
              "        vertical-align: top;\n",
              "    }\n",
              "\n",
              "    .dataframe thead th {\n",
              "        text-align: right;\n",
              "    }\n",
              "</style>\n",
              "<table border=\"1\" class=\"dataframe\">\n",
              "  <thead>\n",
              "    <tr style=\"text-align: right;\">\n",
              "      <th></th>\n",
              "      <th>Patient_ID</th>\n",
              "      <th>Health_Camp_ID</th>\n",
              "      <th>Health Score</th>\n",
              "    </tr>\n",
              "  </thead>\n",
              "  <tbody>\n",
              "    <tr>\n",
              "      <th>0</th>\n",
              "      <td>526631</td>\n",
              "      <td>6536</td>\n",
              "      <td>0.875136</td>\n",
              "    </tr>\n",
              "    <tr>\n",
              "      <th>1</th>\n",
              "      <td>509122</td>\n",
              "      <td>6536</td>\n",
              "      <td>0.755700</td>\n",
              "    </tr>\n",
              "    <tr>\n",
              "      <th>2</th>\n",
              "      <td>498864</td>\n",
              "      <td>6536</td>\n",
              "      <td>0.673181</td>\n",
              "    </tr>\n",
              "    <tr>\n",
              "      <th>3</th>\n",
              "      <td>515398</td>\n",
              "      <td>6536</td>\n",
              "      <td>0.722041</td>\n",
              "    </tr>\n",
              "    <tr>\n",
              "      <th>4</th>\n",
              "      <td>504624</td>\n",
              "      <td>6536</td>\n",
              "      <td>0.464712</td>\n",
              "    </tr>\n",
              "  </tbody>\n",
              "</table>\n",
              "</div>"
            ],
            "text/plain": [
              "   Patient_ID  Health_Camp_ID  Health Score\n",
              "0      526631            6536      0.875136\n",
              "1      509122            6536      0.755700\n",
              "2      498864            6536      0.673181\n",
              "3      515398            6536      0.722041\n",
              "4      504624            6536      0.464712"
            ]
          },
          "execution_count": 9,
          "metadata": {},
          "output_type": "execute_result"
        }
      ],
      "source": [
        "second_health_camp.head()"
      ]
    },
    {
      "cell_type": "code",
      "execution_count": null,
      "id": "abfbed08",
      "metadata": {
        "id": "abfbed08",
        "outputId": "24268335-b4b9-4c1b-ec53-5a41ec727e84"
      },
      "outputs": [
        {
          "data": {
            "text/html": [
              "<div>\n",
              "<style scoped>\n",
              "    .dataframe tbody tr th:only-of-type {\n",
              "        vertical-align: middle;\n",
              "    }\n",
              "\n",
              "    .dataframe tbody tr th {\n",
              "        vertical-align: top;\n",
              "    }\n",
              "\n",
              "    .dataframe thead th {\n",
              "        text-align: right;\n",
              "    }\n",
              "</style>\n",
              "<table border=\"1\" class=\"dataframe\">\n",
              "  <thead>\n",
              "    <tr style=\"text-align: right;\">\n",
              "      <th></th>\n",
              "      <th>Patient_ID</th>\n",
              "      <th>Health_Camp_ID</th>\n",
              "      <th>Number_of_stall_visited</th>\n",
              "      <th>Last_Stall_Visited_Number</th>\n",
              "    </tr>\n",
              "  </thead>\n",
              "  <tbody>\n",
              "    <tr>\n",
              "      <th>0</th>\n",
              "      <td>517875</td>\n",
              "      <td>6527</td>\n",
              "      <td>3</td>\n",
              "      <td>1</td>\n",
              "    </tr>\n",
              "    <tr>\n",
              "      <th>1</th>\n",
              "      <td>504692</td>\n",
              "      <td>6578</td>\n",
              "      <td>1</td>\n",
              "      <td>1</td>\n",
              "    </tr>\n",
              "    <tr>\n",
              "      <th>2</th>\n",
              "      <td>504692</td>\n",
              "      <td>6527</td>\n",
              "      <td>3</td>\n",
              "      <td>1</td>\n",
              "    </tr>\n",
              "    <tr>\n",
              "      <th>3</th>\n",
              "      <td>493167</td>\n",
              "      <td>6527</td>\n",
              "      <td>4</td>\n",
              "      <td>4</td>\n",
              "    </tr>\n",
              "    <tr>\n",
              "      <th>4</th>\n",
              "      <td>510954</td>\n",
              "      <td>6528</td>\n",
              "      <td>2</td>\n",
              "      <td>2</td>\n",
              "    </tr>\n",
              "  </tbody>\n",
              "</table>\n",
              "</div>"
            ],
            "text/plain": [
              "   Patient_ID  Health_Camp_ID  Number_of_stall_visited  \\\n",
              "0      517875            6527                        3   \n",
              "1      504692            6578                        1   \n",
              "2      504692            6527                        3   \n",
              "3      493167            6527                        4   \n",
              "4      510954            6528                        2   \n",
              "\n",
              "   Last_Stall_Visited_Number  \n",
              "0                          1  \n",
              "1                          1  \n",
              "2                          1  \n",
              "3                          4  \n",
              "4                          2  "
            ]
          },
          "execution_count": 10,
          "metadata": {},
          "output_type": "execute_result"
        }
      ],
      "source": [
        "third_health_camp.head()"
      ]
    },
    {
      "cell_type": "code",
      "execution_count": null,
      "id": "d0f581c9",
      "metadata": {
        "id": "d0f581c9",
        "outputId": "4d297fd1-1887-4446-ed60-d8989e931deb"
      },
      "outputs": [
        {
          "data": {
            "text/html": [
              "<div>\n",
              "<style scoped>\n",
              "    .dataframe tbody tr th:only-of-type {\n",
              "        vertical-align: middle;\n",
              "    }\n",
              "\n",
              "    .dataframe tbody tr th {\n",
              "        vertical-align: top;\n",
              "    }\n",
              "\n",
              "    .dataframe thead th {\n",
              "        text-align: right;\n",
              "    }\n",
              "</style>\n",
              "<table border=\"1\" class=\"dataframe\">\n",
              "  <thead>\n",
              "    <tr style=\"text-align: right;\">\n",
              "      <th></th>\n",
              "      <th>Patient_ID</th>\n",
              "      <th>Health_Camp_ID</th>\n",
              "      <th>Registration_Date</th>\n",
              "      <th>Var1</th>\n",
              "      <th>Var2</th>\n",
              "      <th>Var3</th>\n",
              "      <th>Var4</th>\n",
              "      <th>Var5</th>\n",
              "    </tr>\n",
              "  </thead>\n",
              "  <tbody>\n",
              "    <tr>\n",
              "      <th>0</th>\n",
              "      <td>489652</td>\n",
              "      <td>6578</td>\n",
              "      <td>10-Sep-05</td>\n",
              "      <td>4</td>\n",
              "      <td>0</td>\n",
              "      <td>0</td>\n",
              "      <td>0</td>\n",
              "      <td>2</td>\n",
              "    </tr>\n",
              "    <tr>\n",
              "      <th>1</th>\n",
              "      <td>507246</td>\n",
              "      <td>6578</td>\n",
              "      <td>18-Aug-05</td>\n",
              "      <td>45</td>\n",
              "      <td>5</td>\n",
              "      <td>0</td>\n",
              "      <td>0</td>\n",
              "      <td>7</td>\n",
              "    </tr>\n",
              "    <tr>\n",
              "      <th>2</th>\n",
              "      <td>523729</td>\n",
              "      <td>6534</td>\n",
              "      <td>29-Apr-06</td>\n",
              "      <td>0</td>\n",
              "      <td>0</td>\n",
              "      <td>0</td>\n",
              "      <td>0</td>\n",
              "      <td>0</td>\n",
              "    </tr>\n",
              "    <tr>\n",
              "      <th>3</th>\n",
              "      <td>524931</td>\n",
              "      <td>6535</td>\n",
              "      <td>07-Feb-04</td>\n",
              "      <td>0</td>\n",
              "      <td>0</td>\n",
              "      <td>0</td>\n",
              "      <td>0</td>\n",
              "      <td>0</td>\n",
              "    </tr>\n",
              "    <tr>\n",
              "      <th>4</th>\n",
              "      <td>521364</td>\n",
              "      <td>6529</td>\n",
              "      <td>28-Feb-06</td>\n",
              "      <td>15</td>\n",
              "      <td>1</td>\n",
              "      <td>0</td>\n",
              "      <td>0</td>\n",
              "      <td>7</td>\n",
              "    </tr>\n",
              "  </tbody>\n",
              "</table>\n",
              "</div>"
            ],
            "text/plain": [
              "   Patient_ID  Health_Camp_ID Registration_Date  Var1  Var2  Var3  Var4  Var5\n",
              "0      489652            6578         10-Sep-05     4     0     0     0     2\n",
              "1      507246            6578         18-Aug-05    45     5     0     0     7\n",
              "2      523729            6534         29-Apr-06     0     0     0     0     0\n",
              "3      524931            6535         07-Feb-04     0     0     0     0     0\n",
              "4      521364            6529         28-Feb-06    15     1     0     0     7"
            ]
          },
          "execution_count": 11,
          "metadata": {},
          "output_type": "execute_result"
        }
      ],
      "source": [
        "train.head()"
      ]
    },
    {
      "cell_type": "code",
      "execution_count": null,
      "id": "f0d251e4",
      "metadata": {
        "id": "f0d251e4",
        "outputId": "742add90-9f0c-4b99-c4d6-1e4d606115d4"
      },
      "outputs": [
        {
          "name": "stdout",
          "output_type": "stream",
          "text": [
            "<class 'pandas.core.frame.DataFrame'>\n",
            "RangeIndex: 37633 entries, 0 to 37632\n",
            "Data columns (total 11 columns):\n",
            " #   Column             Non-Null Count  Dtype \n",
            "---  ------             --------------  ----- \n",
            " 0   Patient_ID         37633 non-null  int64 \n",
            " 1   Online_Follower    37633 non-null  int64 \n",
            " 2   LinkedIn_Shared    37633 non-null  int64 \n",
            " 3   Twitter_Shared     37633 non-null  int64 \n",
            " 4   Facebook_Shared    37633 non-null  int64 \n",
            " 5   Income             37633 non-null  object\n",
            " 6   Education_Score    37633 non-null  object\n",
            " 7   Age                37633 non-null  object\n",
            " 8   First_Interaction  37633 non-null  object\n",
            " 9   City_Type          14249 non-null  object\n",
            " 10  Employer_Category  2840 non-null   object\n",
            "dtypes: int64(5), object(6)\n",
            "memory usage: 3.2+ MB\n"
          ]
        }
      ],
      "source": [
        "patient_profile.info()"
      ]
    },
    {
      "cell_type": "code",
      "execution_count": null,
      "id": "e59cd129",
      "metadata": {
        "id": "e59cd129",
        "outputId": "6280f58e-3ea3-40b2-fc18-c9c76a2595ea"
      },
      "outputs": [
        {
          "data": {
            "text/html": [
              "<div>\n",
              "<style scoped>\n",
              "    .dataframe tbody tr th:only-of-type {\n",
              "        vertical-align: middle;\n",
              "    }\n",
              "\n",
              "    .dataframe tbody tr th {\n",
              "        vertical-align: top;\n",
              "    }\n",
              "\n",
              "    .dataframe thead th {\n",
              "        text-align: right;\n",
              "    }\n",
              "</style>\n",
              "<table border=\"1\" class=\"dataframe\">\n",
              "  <thead>\n",
              "    <tr style=\"text-align: right;\">\n",
              "      <th></th>\n",
              "      <th>Patient_ID</th>\n",
              "      <th>Online_Follower</th>\n",
              "      <th>LinkedIn_Shared</th>\n",
              "      <th>Twitter_Shared</th>\n",
              "      <th>Facebook_Shared</th>\n",
              "    </tr>\n",
              "  </thead>\n",
              "  <tbody>\n",
              "    <tr>\n",
              "      <th>count</th>\n",
              "      <td>37633.000000</td>\n",
              "      <td>37633.000000</td>\n",
              "      <td>37633.000000</td>\n",
              "      <td>37633.000000</td>\n",
              "      <td>37633.000000</td>\n",
              "    </tr>\n",
              "    <tr>\n",
              "      <th>mean</th>\n",
              "      <td>507148.408338</td>\n",
              "      <td>0.022533</td>\n",
              "      <td>0.027077</td>\n",
              "      <td>0.021603</td>\n",
              "      <td>0.023543</td>\n",
              "    </tr>\n",
              "    <tr>\n",
              "      <th>std</th>\n",
              "      <td>12411.747993</td>\n",
              "      <td>0.148412</td>\n",
              "      <td>0.162311</td>\n",
              "      <td>0.145387</td>\n",
              "      <td>0.151623</td>\n",
              "    </tr>\n",
              "    <tr>\n",
              "      <th>min</th>\n",
              "      <td>485678.000000</td>\n",
              "      <td>0.000000</td>\n",
              "      <td>0.000000</td>\n",
              "      <td>0.000000</td>\n",
              "      <td>0.000000</td>\n",
              "    </tr>\n",
              "    <tr>\n",
              "      <th>25%</th>\n",
              "      <td>496393.000000</td>\n",
              "      <td>0.000000</td>\n",
              "      <td>0.000000</td>\n",
              "      <td>0.000000</td>\n",
              "      <td>0.000000</td>\n",
              "    </tr>\n",
              "    <tr>\n",
              "      <th>50%</th>\n",
              "      <td>507104.000000</td>\n",
              "      <td>0.000000</td>\n",
              "      <td>0.000000</td>\n",
              "      <td>0.000000</td>\n",
              "      <td>0.000000</td>\n",
              "    </tr>\n",
              "    <tr>\n",
              "      <th>75%</th>\n",
              "      <td>517882.000000</td>\n",
              "      <td>0.000000</td>\n",
              "      <td>0.000000</td>\n",
              "      <td>0.000000</td>\n",
              "      <td>0.000000</td>\n",
              "    </tr>\n",
              "    <tr>\n",
              "      <th>max</th>\n",
              "      <td>528657.000000</td>\n",
              "      <td>1.000000</td>\n",
              "      <td>1.000000</td>\n",
              "      <td>1.000000</td>\n",
              "      <td>1.000000</td>\n",
              "    </tr>\n",
              "  </tbody>\n",
              "</table>\n",
              "</div>"
            ],
            "text/plain": [
              "          Patient_ID  Online_Follower  LinkedIn_Shared  Twitter_Shared  \\\n",
              "count   37633.000000     37633.000000     37633.000000    37633.000000   \n",
              "mean   507148.408338         0.022533         0.027077        0.021603   \n",
              "std     12411.747993         0.148412         0.162311        0.145387   \n",
              "min    485678.000000         0.000000         0.000000        0.000000   \n",
              "25%    496393.000000         0.000000         0.000000        0.000000   \n",
              "50%    507104.000000         0.000000         0.000000        0.000000   \n",
              "75%    517882.000000         0.000000         0.000000        0.000000   \n",
              "max    528657.000000         1.000000         1.000000        1.000000   \n",
              "\n",
              "       Facebook_Shared  \n",
              "count     37633.000000  \n",
              "mean          0.023543  \n",
              "std           0.151623  \n",
              "min           0.000000  \n",
              "25%           0.000000  \n",
              "50%           0.000000  \n",
              "75%           0.000000  \n",
              "max           1.000000  "
            ]
          },
          "execution_count": 13,
          "metadata": {},
          "output_type": "execute_result"
        }
      ],
      "source": [
        "patient_profile.describe()"
      ]
    },
    {
      "cell_type": "code",
      "execution_count": null,
      "id": "256f3bc9",
      "metadata": {
        "id": "256f3bc9",
        "outputId": "d8b9779e-b50b-4b20-c3e4-ee44c916ed6a"
      },
      "outputs": [
        {
          "data": {
            "text/html": [
              "<div>\n",
              "<style scoped>\n",
              "    .dataframe tbody tr th:only-of-type {\n",
              "        vertical-align: middle;\n",
              "    }\n",
              "\n",
              "    .dataframe tbody tr th {\n",
              "        vertical-align: top;\n",
              "    }\n",
              "\n",
              "    .dataframe thead th {\n",
              "        text-align: right;\n",
              "    }\n",
              "</style>\n",
              "<table border=\"1\" class=\"dataframe\">\n",
              "  <thead>\n",
              "    <tr style=\"text-align: right;\">\n",
              "      <th></th>\n",
              "      <th>Patient_ID</th>\n",
              "      <th>Online_Follower</th>\n",
              "      <th>LinkedIn_Shared</th>\n",
              "      <th>Twitter_Shared</th>\n",
              "      <th>Facebook_Shared</th>\n",
              "    </tr>\n",
              "  </thead>\n",
              "  <tbody>\n",
              "    <tr>\n",
              "      <th>0</th>\n",
              "      <td>516956</td>\n",
              "      <td>0</td>\n",
              "      <td>0</td>\n",
              "      <td>0</td>\n",
              "      <td>0</td>\n",
              "    </tr>\n",
              "    <tr>\n",
              "      <th>1</th>\n",
              "      <td>507733</td>\n",
              "      <td>0</td>\n",
              "      <td>0</td>\n",
              "      <td>0</td>\n",
              "      <td>0</td>\n",
              "    </tr>\n",
              "    <tr>\n",
              "      <th>2</th>\n",
              "      <td>508307</td>\n",
              "      <td>0</td>\n",
              "      <td>0</td>\n",
              "      <td>0</td>\n",
              "      <td>0</td>\n",
              "    </tr>\n",
              "    <tr>\n",
              "      <th>3</th>\n",
              "      <td>512612</td>\n",
              "      <td>0</td>\n",
              "      <td>0</td>\n",
              "      <td>0</td>\n",
              "      <td>0</td>\n",
              "    </tr>\n",
              "    <tr>\n",
              "      <th>4</th>\n",
              "      <td>521075</td>\n",
              "      <td>0</td>\n",
              "      <td>0</td>\n",
              "      <td>0</td>\n",
              "      <td>0</td>\n",
              "    </tr>\n",
              "    <tr>\n",
              "      <th>...</th>\n",
              "      <td>...</td>\n",
              "      <td>...</td>\n",
              "      <td>...</td>\n",
              "      <td>...</td>\n",
              "      <td>...</td>\n",
              "    </tr>\n",
              "    <tr>\n",
              "      <th>37628</th>\n",
              "      <td>518600</td>\n",
              "      <td>0</td>\n",
              "      <td>0</td>\n",
              "      <td>0</td>\n",
              "      <td>0</td>\n",
              "    </tr>\n",
              "    <tr>\n",
              "      <th>37629</th>\n",
              "      <td>509515</td>\n",
              "      <td>0</td>\n",
              "      <td>0</td>\n",
              "      <td>0</td>\n",
              "      <td>0</td>\n",
              "    </tr>\n",
              "    <tr>\n",
              "      <th>37630</th>\n",
              "      <td>510713</td>\n",
              "      <td>0</td>\n",
              "      <td>0</td>\n",
              "      <td>0</td>\n",
              "      <td>0</td>\n",
              "    </tr>\n",
              "    <tr>\n",
              "      <th>37631</th>\n",
              "      <td>493667</td>\n",
              "      <td>0</td>\n",
              "      <td>0</td>\n",
              "      <td>0</td>\n",
              "      <td>0</td>\n",
              "    </tr>\n",
              "    <tr>\n",
              "      <th>37632</th>\n",
              "      <td>498051</td>\n",
              "      <td>0</td>\n",
              "      <td>0</td>\n",
              "      <td>0</td>\n",
              "      <td>0</td>\n",
              "    </tr>\n",
              "  </tbody>\n",
              "</table>\n",
              "<p>37633 rows × 5 columns</p>\n",
              "</div>"
            ],
            "text/plain": [
              "       Patient_ID  Online_Follower  LinkedIn_Shared  Twitter_Shared  \\\n",
              "0          516956                0                0               0   \n",
              "1          507733                0                0               0   \n",
              "2          508307                0                0               0   \n",
              "3          512612                0                0               0   \n",
              "4          521075                0                0               0   \n",
              "...           ...              ...              ...             ...   \n",
              "37628      518600                0                0               0   \n",
              "37629      509515                0                0               0   \n",
              "37630      510713                0                0               0   \n",
              "37631      493667                0                0               0   \n",
              "37632      498051                0                0               0   \n",
              "\n",
              "       Facebook_Shared  \n",
              "0                    0  \n",
              "1                    0  \n",
              "2                    0  \n",
              "3                    0  \n",
              "4                    0  \n",
              "...                ...  \n",
              "37628                0  \n",
              "37629                0  \n",
              "37630                0  \n",
              "37631                0  \n",
              "37632                0  \n",
              "\n",
              "[37633 rows x 5 columns]"
            ]
          },
          "execution_count": 14,
          "metadata": {},
          "output_type": "execute_result"
        }
      ],
      "source": [
        " numerics = ['int16', 'int32', 'int64', 'float16', 'float32', 'float64']\n",
        "numerical_col_patient_profile = patient_profile.select_dtypes(include=numerics) \n",
        "numerical_col_patient_profile"
      ]
    },
    {
      "cell_type": "code",
      "execution_count": null,
      "id": "0b2ca4f6",
      "metadata": {
        "id": "0b2ca4f6",
        "outputId": "8ba6f433-3885-4ca3-feb0-4d53c69e4969"
      },
      "outputs": [
        {
          "data": {
            "text/plain": [
              "Index(['Patient_ID', 'Online_Follower', 'LinkedIn_Shared', 'Twitter_Shared',\n",
              "       'Facebook_Shared'],\n",
              "      dtype='object')"
            ]
          },
          "execution_count": 15,
          "metadata": {},
          "output_type": "execute_result"
        }
      ],
      "source": [
        "numerical_col_patient_profile.columns"
      ]
    },
    {
      "cell_type": "code",
      "execution_count": null,
      "id": "fe3293a3",
      "metadata": {
        "id": "fe3293a3",
        "outputId": "7b9ab90f-2352-4ccf-dffe-89f629e7c622"
      },
      "outputs": [
        {
          "data": {
            "text/plain": [
              "Patient_ID               0\n",
              "Online_Follower          0\n",
              "LinkedIn_Shared          0\n",
              "Twitter_Shared           0\n",
              "Facebook_Shared          0\n",
              "Income                   0\n",
              "Education_Score          0\n",
              "Age                      0\n",
              "First_Interaction        0\n",
              "City_Type            23384\n",
              "Employer_Category    34793\n",
              "dtype: int64"
            ]
          },
          "execution_count": 16,
          "metadata": {},
          "output_type": "execute_result"
        }
      ],
      "source": [
        "#checking missing values in patient profile\n",
        "patient_profile.isnull().sum()"
      ]
    },
    {
      "cell_type": "code",
      "execution_count": null,
      "id": "36dde310",
      "metadata": {
        "id": "36dde310",
        "outputId": "2196e8ed-3559-40c7-f556-4ddd7f0e52ad"
      },
      "outputs": [
        {
          "name": "stdout",
          "output_type": "stream",
          "text": [
            "<class 'pandas.core.frame.DataFrame'>\n",
            "Int64Index: 6218 entries, 0 to 6217\n",
            "Data columns (total 15 columns):\n",
            " #   Column             Non-Null Count  Dtype  \n",
            "---  ------             --------------  -----  \n",
            " 0   Patient_ID         6218 non-null   int64  \n",
            " 1   Health_Camp_ID     6218 non-null   int64  \n",
            " 2   Donation           6218 non-null   int64  \n",
            " 3   Health_Score       6218 non-null   float64\n",
            " 4   Unnamed: 4         0 non-null      float64\n",
            " 5   Online_Follower    6218 non-null   int64  \n",
            " 6   LinkedIn_Shared    6218 non-null   int64  \n",
            " 7   Twitter_Shared     6218 non-null   int64  \n",
            " 8   Facebook_Shared    6218 non-null   int64  \n",
            " 9   Income             6218 non-null   object \n",
            " 10  Education_Score    6218 non-null   object \n",
            " 11  Age                6218 non-null   object \n",
            " 12  First_Interaction  6218 non-null   object \n",
            " 13  City_Type          4451 non-null   object \n",
            " 14  Employer_Category  2300 non-null   object \n",
            "dtypes: float64(2), int64(7), object(6)\n",
            "memory usage: 777.2+ KB\n"
          ]
        }
      ],
      "source": [
        "merged_details = pd.merge(right = patient_profile, left = first_health_camp, on=\"Patient_ID\")\n",
        "\n",
        "merged_details.info()"
      ]
    },
    {
      "cell_type": "code",
      "execution_count": null,
      "id": "2898887e",
      "metadata": {
        "id": "2898887e",
        "outputId": "c4ec7e48-bd2e-4688-8443-0170939654df"
      },
      "outputs": [
        {
          "name": "stdout",
          "output_type": "stream",
          "text": [
            "<class 'pandas.core.frame.DataFrame'>\n",
            "Int64Index: 6218 entries, 0 to 6217\n",
            "Data columns (total 20 columns):\n",
            " #   Column             Non-Null Count  Dtype  \n",
            "---  ------             --------------  -----  \n",
            " 0   Patient_ID         6218 non-null   int64  \n",
            " 1   Health_Camp_ID     6218 non-null   int64  \n",
            " 2   Donation           6218 non-null   int64  \n",
            " 3   Health_Score       6218 non-null   float64\n",
            " 4   Unnamed: 4         0 non-null      float64\n",
            " 5   Online_Follower    6218 non-null   int64  \n",
            " 6   LinkedIn_Shared    6218 non-null   int64  \n",
            " 7   Twitter_Shared     6218 non-null   int64  \n",
            " 8   Facebook_Shared    6218 non-null   int64  \n",
            " 9   Income             6218 non-null   object \n",
            " 10  Education_Score    6218 non-null   object \n",
            " 11  Age                6218 non-null   object \n",
            " 12  First_Interaction  6218 non-null   object \n",
            " 13  City_Type          4451 non-null   object \n",
            " 14  Employer_Category  2300 non-null   object \n",
            " 15  Camp_Start_Date    6218 non-null   object \n",
            " 16  Camp_End_Date      6218 non-null   object \n",
            " 17  Category1          6218 non-null   object \n",
            " 18  Category2          6218 non-null   object \n",
            " 19  Category3          6218 non-null   int64  \n",
            "dtypes: float64(2), int64(8), object(10)\n",
            "memory usage: 1020.1+ KB\n"
          ]
        }
      ],
      "source": [
        "merged_details = merged_details.merge(health_camp_details, on = \"Health_Camp_ID\" )\n",
        "merged_details.info()"
      ]
    },
    {
      "cell_type": "code",
      "execution_count": null,
      "id": "b0de1e81",
      "metadata": {
        "id": "b0de1e81",
        "outputId": "69fd138a-5489-4549-ae18-3a9b2caa6e6a"
      },
      "outputs": [
        {
          "name": "stdout",
          "output_type": "stream",
          "text": [
            "<class 'pandas.core.frame.DataFrame'>\n",
            "Int64Index: 5212 entries, 0 to 5211\n",
            "Data columns (total 22 columns):\n",
            " #   Column             Non-Null Count  Dtype  \n",
            "---  ------             --------------  -----  \n",
            " 0   Patient_ID         5212 non-null   int64  \n",
            " 1   Health_Camp_ID_x   5212 non-null   int64  \n",
            " 2   Donation           5212 non-null   int64  \n",
            " 3   Health_Score       5212 non-null   float64\n",
            " 4   Unnamed: 4         0 non-null      float64\n",
            " 5   Online_Follower    5212 non-null   int64  \n",
            " 6   LinkedIn_Shared    5212 non-null   int64  \n",
            " 7   Twitter_Shared     5212 non-null   int64  \n",
            " 8   Facebook_Shared    5212 non-null   int64  \n",
            " 9   Income             5212 non-null   object \n",
            " 10  Education_Score    5212 non-null   object \n",
            " 11  Age                5212 non-null   object \n",
            " 12  First_Interaction  5212 non-null   object \n",
            " 13  City_Type          4470 non-null   object \n",
            " 14  Employer_Category  2948 non-null   object \n",
            " 15  Camp_Start_Date    5212 non-null   object \n",
            " 16  Camp_End_Date      5212 non-null   object \n",
            " 17  Category1          5212 non-null   object \n",
            " 18  Category2          5212 non-null   object \n",
            " 19  Category3          5212 non-null   int64  \n",
            " 20  Health_Camp_ID_y   5212 non-null   int64  \n",
            " 21  Health Score       5212 non-null   float64\n",
            "dtypes: float64(3), int64(9), object(10)\n",
            "memory usage: 936.5+ KB\n"
          ]
        }
      ],
      "source": [
        "merged_details = merged_details.merge(second_health_camp, on=\"Patient_ID\")\n",
        "merged_details.info()"
      ]
    },
    {
      "cell_type": "code",
      "execution_count": null,
      "id": "476333d1",
      "metadata": {
        "id": "476333d1",
        "outputId": "3209d80d-a9bc-4337-85b9-098e81095679"
      },
      "outputs": [
        {
          "name": "stderr",
          "output_type": "stream",
          "text": [
            "C:\\Users\\harsh\\AppData\\Local\\Temp\\ipykernel_14748\\3381056128.py:1: FutureWarning: Passing 'suffixes' which cause duplicate columns {'Health_Camp_ID_x'} in the result is deprecated and will raise a MergeError in a future version.\n",
            "  merged_details = merged_details.merge( third_health_camp ,on = \"Patient_ID\")\n"
          ]
        }
      ],
      "source": [
        "merged_details = merged_details.merge( third_health_camp ,on = \"Patient_ID\")"
      ]
    },
    {
      "cell_type": "code",
      "execution_count": null,
      "id": "806031a8",
      "metadata": {
        "id": "806031a8",
        "outputId": "86bd1fe1-bdf7-4354-c99d-b5987358df2b"
      },
      "outputs": [
        {
          "data": {
            "text/html": [
              "<div>\n",
              "<style scoped>\n",
              "    .dataframe tbody tr th:only-of-type {\n",
              "        vertical-align: middle;\n",
              "    }\n",
              "\n",
              "    .dataframe tbody tr th {\n",
              "        vertical-align: top;\n",
              "    }\n",
              "\n",
              "    .dataframe thead th {\n",
              "        text-align: right;\n",
              "    }\n",
              "</style>\n",
              "<table border=\"1\" class=\"dataframe\">\n",
              "  <thead>\n",
              "    <tr style=\"text-align: right;\">\n",
              "      <th></th>\n",
              "      <th>Patient_ID</th>\n",
              "      <th>Health_Camp_ID_x</th>\n",
              "      <th>Donation</th>\n",
              "      <th>Health_Score</th>\n",
              "      <th>Unnamed: 4</th>\n",
              "      <th>Online_Follower</th>\n",
              "      <th>LinkedIn_Shared</th>\n",
              "      <th>Twitter_Shared</th>\n",
              "      <th>Facebook_Shared</th>\n",
              "      <th>Category3</th>\n",
              "      <th>Health_Camp_ID_y</th>\n",
              "      <th>Health Score</th>\n",
              "      <th>Health_Camp_ID_x</th>\n",
              "      <th>Number_of_stall_visited_x</th>\n",
              "      <th>Last_Stall_Visited_Number_x</th>\n",
              "      <th>Health_Camp_ID_y</th>\n",
              "      <th>Number_of_stall_visited_y</th>\n",
              "      <th>Last_Stall_Visited_Number_y</th>\n",
              "    </tr>\n",
              "  </thead>\n",
              "  <tbody>\n",
              "    <tr>\n",
              "      <th>count</th>\n",
              "      <td>10032.000000</td>\n",
              "      <td>10032.000000</td>\n",
              "      <td>10032.000000</td>\n",
              "      <td>10032.000000</td>\n",
              "      <td>0.0</td>\n",
              "      <td>10032.000000</td>\n",
              "      <td>10032.000000</td>\n",
              "      <td>10032.000000</td>\n",
              "      <td>10032.000000</td>\n",
              "      <td>10032.000000</td>\n",
              "      <td>10032.000000</td>\n",
              "      <td>10032.000000</td>\n",
              "      <td>10032.000000</td>\n",
              "      <td>10032.000000</td>\n",
              "      <td>10032.000000</td>\n",
              "      <td>10032.000000</td>\n",
              "      <td>10032.000000</td>\n",
              "      <td>10032.000000</td>\n",
              "    </tr>\n",
              "    <tr>\n",
              "      <th>mean</th>\n",
              "      <td>507301.424242</td>\n",
              "      <td>6551.949262</td>\n",
              "      <td>32.412281</td>\n",
              "      <td>0.521779</td>\n",
              "      <td>NaN</td>\n",
              "      <td>0.163377</td>\n",
              "      <td>0.190291</td>\n",
              "      <td>0.151914</td>\n",
              "      <td>0.143341</td>\n",
              "      <td>1.989533</td>\n",
              "      <td>6536.213018</td>\n",
              "      <td>0.606351</td>\n",
              "      <td>6546.116029</td>\n",
              "      <td>3.246312</td>\n",
              "      <td>2.598585</td>\n",
              "      <td>6546.116029</td>\n",
              "      <td>3.246312</td>\n",
              "      <td>2.598585</td>\n",
              "    </tr>\n",
              "    <tr>\n",
              "      <th>std</th>\n",
              "      <td>12145.751904</td>\n",
              "      <td>17.523800</td>\n",
              "      <td>27.496155</td>\n",
              "      <td>0.282705</td>\n",
              "      <td>NaN</td>\n",
              "      <td>0.369728</td>\n",
              "      <td>0.392550</td>\n",
              "      <td>0.358955</td>\n",
              "      <td>0.350438</td>\n",
              "      <td>0.101774</td>\n",
              "      <td>11.145774</td>\n",
              "      <td>0.274431</td>\n",
              "      <td>22.829158</td>\n",
              "      <td>1.755813</td>\n",
              "      <td>1.557668</td>\n",
              "      <td>22.829158</td>\n",
              "      <td>1.755813</td>\n",
              "      <td>1.557668</td>\n",
              "    </tr>\n",
              "    <tr>\n",
              "      <th>min</th>\n",
              "      <td>485720.000000</td>\n",
              "      <td>6524.000000</td>\n",
              "      <td>10.000000</td>\n",
              "      <td>0.001667</td>\n",
              "      <td>NaN</td>\n",
              "      <td>0.000000</td>\n",
              "      <td>0.000000</td>\n",
              "      <td>0.000000</td>\n",
              "      <td>0.000000</td>\n",
              "      <td>1.000000</td>\n",
              "      <td>6523.000000</td>\n",
              "      <td>0.058993</td>\n",
              "      <td>6527.000000</td>\n",
              "      <td>0.000000</td>\n",
              "      <td>0.000000</td>\n",
              "      <td>6527.000000</td>\n",
              "      <td>0.000000</td>\n",
              "      <td>0.000000</td>\n",
              "    </tr>\n",
              "    <tr>\n",
              "      <th>25%</th>\n",
              "      <td>496684.000000</td>\n",
              "      <td>6538.000000</td>\n",
              "      <td>20.000000</td>\n",
              "      <td>0.295276</td>\n",
              "      <td>NaN</td>\n",
              "      <td>0.000000</td>\n",
              "      <td>0.000000</td>\n",
              "      <td>0.000000</td>\n",
              "      <td>0.000000</td>\n",
              "      <td>2.000000</td>\n",
              "      <td>6529.000000</td>\n",
              "      <td>0.374101</td>\n",
              "      <td>6527.000000</td>\n",
              "      <td>2.000000</td>\n",
              "      <td>1.000000</td>\n",
              "      <td>6527.000000</td>\n",
              "      <td>2.000000</td>\n",
              "      <td>1.000000</td>\n",
              "    </tr>\n",
              "    <tr>\n",
              "      <th>50%</th>\n",
              "      <td>508352.000000</td>\n",
              "      <td>6543.000000</td>\n",
              "      <td>30.000000</td>\n",
              "      <td>0.556962</td>\n",
              "      <td>NaN</td>\n",
              "      <td>0.000000</td>\n",
              "      <td>0.000000</td>\n",
              "      <td>0.000000</td>\n",
              "      <td>0.000000</td>\n",
              "      <td>2.000000</td>\n",
              "      <td>6534.000000</td>\n",
              "      <td>0.627865</td>\n",
              "      <td>6528.000000</td>\n",
              "      <td>3.000000</td>\n",
              "      <td>2.000000</td>\n",
              "      <td>6528.000000</td>\n",
              "      <td>3.000000</td>\n",
              "      <td>2.000000</td>\n",
              "    </tr>\n",
              "    <tr>\n",
              "      <th>75%</th>\n",
              "      <td>516956.000000</td>\n",
              "      <td>6570.000000</td>\n",
              "      <td>40.000000</td>\n",
              "      <td>0.753325</td>\n",
              "      <td>NaN</td>\n",
              "      <td>0.000000</td>\n",
              "      <td>0.000000</td>\n",
              "      <td>0.000000</td>\n",
              "      <td>0.000000</td>\n",
              "      <td>2.000000</td>\n",
              "      <td>6549.000000</td>\n",
              "      <td>0.861759</td>\n",
              "      <td>6578.000000</td>\n",
              "      <td>5.000000</td>\n",
              "      <td>4.000000</td>\n",
              "      <td>6578.000000</td>\n",
              "      <td>5.000000</td>\n",
              "      <td>4.000000</td>\n",
              "    </tr>\n",
              "    <tr>\n",
              "      <th>max</th>\n",
              "      <td>528589.000000</td>\n",
              "      <td>6586.000000</td>\n",
              "      <td>280.000000</td>\n",
              "      <td>1.000000</td>\n",
              "      <td>NaN</td>\n",
              "      <td>1.000000</td>\n",
              "      <td>1.000000</td>\n",
              "      <td>1.000000</td>\n",
              "      <td>1.000000</td>\n",
              "      <td>2.000000</td>\n",
              "      <td>6555.000000</td>\n",
              "      <td>1.000000</td>\n",
              "      <td>6578.000000</td>\n",
              "      <td>7.000000</td>\n",
              "      <td>6.000000</td>\n",
              "      <td>6578.000000</td>\n",
              "      <td>7.000000</td>\n",
              "      <td>6.000000</td>\n",
              "    </tr>\n",
              "  </tbody>\n",
              "</table>\n",
              "</div>"
            ],
            "text/plain": [
              "          Patient_ID  Health_Camp_ID_x      Donation  Health_Score  \\\n",
              "count   10032.000000      10032.000000  10032.000000  10032.000000   \n",
              "mean   507301.424242       6551.949262     32.412281      0.521779   \n",
              "std     12145.751904         17.523800     27.496155      0.282705   \n",
              "min    485720.000000       6524.000000     10.000000      0.001667   \n",
              "25%    496684.000000       6538.000000     20.000000      0.295276   \n",
              "50%    508352.000000       6543.000000     30.000000      0.556962   \n",
              "75%    516956.000000       6570.000000     40.000000      0.753325   \n",
              "max    528589.000000       6586.000000    280.000000      1.000000   \n",
              "\n",
              "       Unnamed: 4  Online_Follower  LinkedIn_Shared  Twitter_Shared  \\\n",
              "count         0.0     10032.000000     10032.000000    10032.000000   \n",
              "mean          NaN         0.163377         0.190291        0.151914   \n",
              "std           NaN         0.369728         0.392550        0.358955   \n",
              "min           NaN         0.000000         0.000000        0.000000   \n",
              "25%           NaN         0.000000         0.000000        0.000000   \n",
              "50%           NaN         0.000000         0.000000        0.000000   \n",
              "75%           NaN         0.000000         0.000000        0.000000   \n",
              "max           NaN         1.000000         1.000000        1.000000   \n",
              "\n",
              "       Facebook_Shared     Category3  Health_Camp_ID_y  Health Score  \\\n",
              "count     10032.000000  10032.000000      10032.000000  10032.000000   \n",
              "mean          0.143341      1.989533       6536.213018      0.606351   \n",
              "std           0.350438      0.101774         11.145774      0.274431   \n",
              "min           0.000000      1.000000       6523.000000      0.058993   \n",
              "25%           0.000000      2.000000       6529.000000      0.374101   \n",
              "50%           0.000000      2.000000       6534.000000      0.627865   \n",
              "75%           0.000000      2.000000       6549.000000      0.861759   \n",
              "max           1.000000      2.000000       6555.000000      1.000000   \n",
              "\n",
              "       Health_Camp_ID_x  Number_of_stall_visited_x  \\\n",
              "count      10032.000000               10032.000000   \n",
              "mean        6546.116029                   3.246312   \n",
              "std           22.829158                   1.755813   \n",
              "min         6527.000000                   0.000000   \n",
              "25%         6527.000000                   2.000000   \n",
              "50%         6528.000000                   3.000000   \n",
              "75%         6578.000000                   5.000000   \n",
              "max         6578.000000                   7.000000   \n",
              "\n",
              "       Last_Stall_Visited_Number_x  Health_Camp_ID_y  \\\n",
              "count                 10032.000000      10032.000000   \n",
              "mean                      2.598585       6546.116029   \n",
              "std                       1.557668         22.829158   \n",
              "min                       0.000000       6527.000000   \n",
              "25%                       1.000000       6527.000000   \n",
              "50%                       2.000000       6528.000000   \n",
              "75%                       4.000000       6578.000000   \n",
              "max                       6.000000       6578.000000   \n",
              "\n",
              "       Number_of_stall_visited_y  Last_Stall_Visited_Number_y  \n",
              "count               10032.000000                 10032.000000  \n",
              "mean                    3.246312                     2.598585  \n",
              "std                     1.755813                     1.557668  \n",
              "min                     0.000000                     0.000000  \n",
              "25%                     2.000000                     1.000000  \n",
              "50%                     3.000000                     2.000000  \n",
              "75%                     5.000000                     4.000000  \n",
              "max                     7.000000                     6.000000  "
            ]
          },
          "execution_count": 22,
          "metadata": {},
          "output_type": "execute_result"
        }
      ],
      "source": [
        "merged_details.describe()"
      ]
    },
    {
      "cell_type": "code",
      "execution_count": null,
      "id": "fe97ad56",
      "metadata": {
        "id": "fe97ad56",
        "outputId": "a6c9e39c-aedd-4739-d934-1e509a56d524"
      },
      "outputs": [
        {
          "data": {
            "text/plain": [
              "Index(['Patient_ID', 'Health_Camp_ID_x', 'Donation', 'Health_Score',\n",
              "       'Unnamed: 4', 'Online_Follower', 'LinkedIn_Shared', 'Twitter_Shared',\n",
              "       'Facebook_Shared', 'Income', 'Education_Score', 'Age',\n",
              "       'First_Interaction', 'City_Type', 'Employer_Category',\n",
              "       'Camp_Start_Date', 'Camp_End_Date', 'Category1', 'Category2',\n",
              "       'Category3', 'Health_Camp_ID_y', 'Health Score', 'Health_Camp_ID_x',\n",
              "       'Number_of_stall_visited_x', 'Last_Stall_Visited_Number_x',\n",
              "       'Health_Camp_ID_y', 'Number_of_stall_visited_y',\n",
              "       'Last_Stall_Visited_Number_y'],\n",
              "      dtype='object')"
            ]
          },
          "execution_count": 23,
          "metadata": {},
          "output_type": "execute_result"
        }
      ],
      "source": [
        "merged_details.columns"
      ]
    },
    {
      "cell_type": "code",
      "execution_count": null,
      "id": "d76d8711",
      "metadata": {
        "id": "d76d8711",
        "outputId": "d3213f62-b3e1-4a1b-c0f8-f5e71cbe0b61"
      },
      "outputs": [
        {
          "name": "stdout",
          "output_type": "stream",
          "text": [
            "<class 'pandas.core.frame.DataFrame'>\n",
            "Int64Index: 10032 entries, 0 to 10031\n",
            "Data columns (total 28 columns):\n",
            " #   Column                       Non-Null Count  Dtype  \n",
            "---  ------                       --------------  -----  \n",
            " 0   Patient_ID                   10032 non-null  int64  \n",
            " 1   Health_Camp_ID_x             10032 non-null  int64  \n",
            " 2   Donation                     10032 non-null  int64  \n",
            " 3   Health_Score                 10032 non-null  float64\n",
            " 4   Unnamed: 4                   0 non-null      float64\n",
            " 5   Online_Follower              10032 non-null  int64  \n",
            " 6   LinkedIn_Shared              10032 non-null  int64  \n",
            " 7   Twitter_Shared               10032 non-null  int64  \n",
            " 8   Facebook_Shared              10032 non-null  int64  \n",
            " 9   Income                       10032 non-null  object \n",
            " 10  Education_Score              10032 non-null  object \n",
            " 11  Age                          10032 non-null  object \n",
            " 12  First_Interaction            10032 non-null  object \n",
            " 13  City_Type                    8900 non-null   object \n",
            " 14  Employer_Category            6288 non-null   object \n",
            " 15  Camp_Start_Date              10032 non-null  object \n",
            " 16  Camp_End_Date                10032 non-null  object \n",
            " 17  Category1                    10032 non-null  object \n",
            " 18  Category2                    10032 non-null  object \n",
            " 19  Category3                    10032 non-null  int64  \n",
            " 20  Health_Camp_ID_y             10032 non-null  int64  \n",
            " 21  Health Score                 10032 non-null  float64\n",
            " 22  Health_Camp_ID_x             10032 non-null  int64  \n",
            " 23  Number_of_stall_visited_x    10032 non-null  int64  \n",
            " 24  Last_Stall_Visited_Number_x  10032 non-null  int64  \n",
            " 25  Health_Camp_ID_y             10032 non-null  int64  \n",
            " 26  Number_of_stall_visited_y    10032 non-null  int64  \n",
            " 27  Last_Stall_Visited_Number_y  10032 non-null  int64  \n",
            "dtypes: float64(3), int64(15), object(10)\n",
            "memory usage: 2.2+ MB\n"
          ]
        }
      ],
      "source": [
        "merged_details.info()"
      ]
    },
    {
      "cell_type": "code",
      "execution_count": null,
      "id": "2cbbe040",
      "metadata": {
        "id": "2cbbe040",
        "outputId": "66777f61-53ce-4bdc-9536-cd5845cc345b"
      },
      "outputs": [
        {
          "data": {
            "text/html": [
              "<div>\n",
              "<style scoped>\n",
              "    .dataframe tbody tr th:only-of-type {\n",
              "        vertical-align: middle;\n",
              "    }\n",
              "\n",
              "    .dataframe tbody tr th {\n",
              "        vertical-align: top;\n",
              "    }\n",
              "\n",
              "    .dataframe thead th {\n",
              "        text-align: right;\n",
              "    }\n",
              "</style>\n",
              "<table border=\"1\" class=\"dataframe\">\n",
              "  <thead>\n",
              "    <tr style=\"text-align: right;\">\n",
              "      <th></th>\n",
              "      <th>Patient_ID</th>\n",
              "      <th>Health_Camp_ID_x</th>\n",
              "      <th>Donation</th>\n",
              "      <th>Health_Score</th>\n",
              "      <th>Unnamed: 4</th>\n",
              "      <th>Online_Follower</th>\n",
              "      <th>LinkedIn_Shared</th>\n",
              "      <th>Twitter_Shared</th>\n",
              "      <th>Facebook_Shared</th>\n",
              "      <th>Category3</th>\n",
              "      <th>Health_Camp_ID_y</th>\n",
              "      <th>Health Score</th>\n",
              "      <th>Health_Camp_ID_x</th>\n",
              "      <th>Number_of_stall_visited_x</th>\n",
              "      <th>Last_Stall_Visited_Number_x</th>\n",
              "      <th>Health_Camp_ID_y</th>\n",
              "      <th>Number_of_stall_visited_y</th>\n",
              "      <th>Last_Stall_Visited_Number_y</th>\n",
              "    </tr>\n",
              "  </thead>\n",
              "  <tbody>\n",
              "    <tr>\n",
              "      <th>0</th>\n",
              "      <td>494977</td>\n",
              "      <td>6560</td>\n",
              "      <td>20</td>\n",
              "      <td>0.097561</td>\n",
              "      <td>NaN</td>\n",
              "      <td>1</td>\n",
              "      <td>1</td>\n",
              "      <td>1</td>\n",
              "      <td>0</td>\n",
              "      <td>2</td>\n",
              "      <td>6536</td>\n",
              "      <td>0.673181</td>\n",
              "      <td>6578</td>\n",
              "      <td>5</td>\n",
              "      <td>3</td>\n",
              "      <td>6578</td>\n",
              "      <td>5</td>\n",
              "      <td>3</td>\n",
              "    </tr>\n",
              "    <tr>\n",
              "      <th>1</th>\n",
              "      <td>494977</td>\n",
              "      <td>6560</td>\n",
              "      <td>20</td>\n",
              "      <td>0.097561</td>\n",
              "      <td>NaN</td>\n",
              "      <td>1</td>\n",
              "      <td>1</td>\n",
              "      <td>1</td>\n",
              "      <td>0</td>\n",
              "      <td>2</td>\n",
              "      <td>6536</td>\n",
              "      <td>0.673181</td>\n",
              "      <td>6578</td>\n",
              "      <td>5</td>\n",
              "      <td>3</td>\n",
              "      <td>6527</td>\n",
              "      <td>2</td>\n",
              "      <td>1</td>\n",
              "    </tr>\n",
              "    <tr>\n",
              "      <th>2</th>\n",
              "      <td>494977</td>\n",
              "      <td>6560</td>\n",
              "      <td>20</td>\n",
              "      <td>0.097561</td>\n",
              "      <td>NaN</td>\n",
              "      <td>1</td>\n",
              "      <td>1</td>\n",
              "      <td>1</td>\n",
              "      <td>0</td>\n",
              "      <td>2</td>\n",
              "      <td>6536</td>\n",
              "      <td>0.673181</td>\n",
              "      <td>6527</td>\n",
              "      <td>2</td>\n",
              "      <td>1</td>\n",
              "      <td>6578</td>\n",
              "      <td>5</td>\n",
              "      <td>3</td>\n",
              "    </tr>\n",
              "    <tr>\n",
              "      <th>3</th>\n",
              "      <td>494977</td>\n",
              "      <td>6560</td>\n",
              "      <td>20</td>\n",
              "      <td>0.097561</td>\n",
              "      <td>NaN</td>\n",
              "      <td>1</td>\n",
              "      <td>1</td>\n",
              "      <td>1</td>\n",
              "      <td>0</td>\n",
              "      <td>2</td>\n",
              "      <td>6536</td>\n",
              "      <td>0.673181</td>\n",
              "      <td>6527</td>\n",
              "      <td>2</td>\n",
              "      <td>1</td>\n",
              "      <td>6527</td>\n",
              "      <td>2</td>\n",
              "      <td>1</td>\n",
              "    </tr>\n",
              "    <tr>\n",
              "      <th>4</th>\n",
              "      <td>494977</td>\n",
              "      <td>6560</td>\n",
              "      <td>20</td>\n",
              "      <td>0.097561</td>\n",
              "      <td>NaN</td>\n",
              "      <td>1</td>\n",
              "      <td>1</td>\n",
              "      <td>1</td>\n",
              "      <td>0</td>\n",
              "      <td>2</td>\n",
              "      <td>6555</td>\n",
              "      <td>0.615827</td>\n",
              "      <td>6578</td>\n",
              "      <td>5</td>\n",
              "      <td>3</td>\n",
              "      <td>6578</td>\n",
              "      <td>5</td>\n",
              "      <td>3</td>\n",
              "    </tr>\n",
              "    <tr>\n",
              "      <th>...</th>\n",
              "      <td>...</td>\n",
              "      <td>...</td>\n",
              "      <td>...</td>\n",
              "      <td>...</td>\n",
              "      <td>...</td>\n",
              "      <td>...</td>\n",
              "      <td>...</td>\n",
              "      <td>...</td>\n",
              "      <td>...</td>\n",
              "      <td>...</td>\n",
              "      <td>...</td>\n",
              "      <td>...</td>\n",
              "      <td>...</td>\n",
              "      <td>...</td>\n",
              "      <td>...</td>\n",
              "      <td>...</td>\n",
              "      <td>...</td>\n",
              "      <td>...</td>\n",
              "    </tr>\n",
              "    <tr>\n",
              "      <th>10027</th>\n",
              "      <td>520328</td>\n",
              "      <td>6524</td>\n",
              "      <td>20</td>\n",
              "      <td>0.092593</td>\n",
              "      <td>NaN</td>\n",
              "      <td>0</td>\n",
              "      <td>0</td>\n",
              "      <td>0</td>\n",
              "      <td>0</td>\n",
              "      <td>2</td>\n",
              "      <td>6549</td>\n",
              "      <td>0.552962</td>\n",
              "      <td>6527</td>\n",
              "      <td>6</td>\n",
              "      <td>4</td>\n",
              "      <td>6527</td>\n",
              "      <td>6</td>\n",
              "      <td>4</td>\n",
              "    </tr>\n",
              "    <tr>\n",
              "      <th>10028</th>\n",
              "      <td>517824</td>\n",
              "      <td>6524</td>\n",
              "      <td>20</td>\n",
              "      <td>0.648148</td>\n",
              "      <td>NaN</td>\n",
              "      <td>0</td>\n",
              "      <td>0</td>\n",
              "      <td>0</td>\n",
              "      <td>0</td>\n",
              "      <td>2</td>\n",
              "      <td>6534</td>\n",
              "      <td>0.610190</td>\n",
              "      <td>6578</td>\n",
              "      <td>3</td>\n",
              "      <td>2</td>\n",
              "      <td>6578</td>\n",
              "      <td>3</td>\n",
              "      <td>2</td>\n",
              "    </tr>\n",
              "    <tr>\n",
              "      <th>10029</th>\n",
              "      <td>517824</td>\n",
              "      <td>6524</td>\n",
              "      <td>20</td>\n",
              "      <td>0.648148</td>\n",
              "      <td>NaN</td>\n",
              "      <td>0</td>\n",
              "      <td>0</td>\n",
              "      <td>0</td>\n",
              "      <td>0</td>\n",
              "      <td>2</td>\n",
              "      <td>6534</td>\n",
              "      <td>0.610190</td>\n",
              "      <td>6578</td>\n",
              "      <td>3</td>\n",
              "      <td>2</td>\n",
              "      <td>6527</td>\n",
              "      <td>6</td>\n",
              "      <td>4</td>\n",
              "    </tr>\n",
              "    <tr>\n",
              "      <th>10030</th>\n",
              "      <td>517824</td>\n",
              "      <td>6524</td>\n",
              "      <td>20</td>\n",
              "      <td>0.648148</td>\n",
              "      <td>NaN</td>\n",
              "      <td>0</td>\n",
              "      <td>0</td>\n",
              "      <td>0</td>\n",
              "      <td>0</td>\n",
              "      <td>2</td>\n",
              "      <td>6534</td>\n",
              "      <td>0.610190</td>\n",
              "      <td>6527</td>\n",
              "      <td>6</td>\n",
              "      <td>4</td>\n",
              "      <td>6578</td>\n",
              "      <td>3</td>\n",
              "      <td>2</td>\n",
              "    </tr>\n",
              "    <tr>\n",
              "      <th>10031</th>\n",
              "      <td>517824</td>\n",
              "      <td>6524</td>\n",
              "      <td>20</td>\n",
              "      <td>0.648148</td>\n",
              "      <td>NaN</td>\n",
              "      <td>0</td>\n",
              "      <td>0</td>\n",
              "      <td>0</td>\n",
              "      <td>0</td>\n",
              "      <td>2</td>\n",
              "      <td>6534</td>\n",
              "      <td>0.610190</td>\n",
              "      <td>6527</td>\n",
              "      <td>6</td>\n",
              "      <td>4</td>\n",
              "      <td>6527</td>\n",
              "      <td>6</td>\n",
              "      <td>4</td>\n",
              "    </tr>\n",
              "  </tbody>\n",
              "</table>\n",
              "<p>10032 rows × 18 columns</p>\n",
              "</div>"
            ],
            "text/plain": [
              "       Patient_ID  Health_Camp_ID_x  Donation  Health_Score  Unnamed: 4  \\\n",
              "0          494977              6560        20      0.097561         NaN   \n",
              "1          494977              6560        20      0.097561         NaN   \n",
              "2          494977              6560        20      0.097561         NaN   \n",
              "3          494977              6560        20      0.097561         NaN   \n",
              "4          494977              6560        20      0.097561         NaN   \n",
              "...           ...               ...       ...           ...         ...   \n",
              "10027      520328              6524        20      0.092593         NaN   \n",
              "10028      517824              6524        20      0.648148         NaN   \n",
              "10029      517824              6524        20      0.648148         NaN   \n",
              "10030      517824              6524        20      0.648148         NaN   \n",
              "10031      517824              6524        20      0.648148         NaN   \n",
              "\n",
              "       Online_Follower  LinkedIn_Shared  Twitter_Shared  Facebook_Shared  \\\n",
              "0                    1                1               1                0   \n",
              "1                    1                1               1                0   \n",
              "2                    1                1               1                0   \n",
              "3                    1                1               1                0   \n",
              "4                    1                1               1                0   \n",
              "...                ...              ...             ...              ...   \n",
              "10027                0                0               0                0   \n",
              "10028                0                0               0                0   \n",
              "10029                0                0               0                0   \n",
              "10030                0                0               0                0   \n",
              "10031                0                0               0                0   \n",
              "\n",
              "       Category3  Health_Camp_ID_y  Health Score  Health_Camp_ID_x  \\\n",
              "0              2              6536      0.673181              6578   \n",
              "1              2              6536      0.673181              6578   \n",
              "2              2              6536      0.673181              6527   \n",
              "3              2              6536      0.673181              6527   \n",
              "4              2              6555      0.615827              6578   \n",
              "...          ...               ...           ...               ...   \n",
              "10027          2              6549      0.552962              6527   \n",
              "10028          2              6534      0.610190              6578   \n",
              "10029          2              6534      0.610190              6578   \n",
              "10030          2              6534      0.610190              6527   \n",
              "10031          2              6534      0.610190              6527   \n",
              "\n",
              "       Number_of_stall_visited_x  Last_Stall_Visited_Number_x  \\\n",
              "0                              5                            3   \n",
              "1                              5                            3   \n",
              "2                              2                            1   \n",
              "3                              2                            1   \n",
              "4                              5                            3   \n",
              "...                          ...                          ...   \n",
              "10027                          6                            4   \n",
              "10028                          3                            2   \n",
              "10029                          3                            2   \n",
              "10030                          6                            4   \n",
              "10031                          6                            4   \n",
              "\n",
              "       Health_Camp_ID_y  Number_of_stall_visited_y  \\\n",
              "0                  6578                          5   \n",
              "1                  6527                          2   \n",
              "2                  6578                          5   \n",
              "3                  6527                          2   \n",
              "4                  6578                          5   \n",
              "...                 ...                        ...   \n",
              "10027              6527                          6   \n",
              "10028              6578                          3   \n",
              "10029              6527                          6   \n",
              "10030              6578                          3   \n",
              "10031              6527                          6   \n",
              "\n",
              "       Last_Stall_Visited_Number_y  \n",
              "0                                3  \n",
              "1                                1  \n",
              "2                                3  \n",
              "3                                1  \n",
              "4                                3  \n",
              "...                            ...  \n",
              "10027                            4  \n",
              "10028                            2  \n",
              "10029                            4  \n",
              "10030                            2  \n",
              "10031                            4  \n",
              "\n",
              "[10032 rows x 18 columns]"
            ]
          },
          "execution_count": 25,
          "metadata": {},
          "output_type": "execute_result"
        }
      ],
      "source": [
        "numerics = ['int16', 'int32', 'int64', 'float16', 'float32', 'float64']\n",
        "numerical_merged_cols = merged_details.select_dtypes(include=numerics) \n",
        "numerical_merged_cols"
      ]
    },
    {
      "cell_type": "code",
      "execution_count": null,
      "id": "3b446716",
      "metadata": {
        "id": "3b446716",
        "outputId": "5806393b-465d-4904-fda1-449c3277fb48"
      },
      "outputs": [
        {
          "data": {
            "text/html": [
              "<div>\n",
              "<style scoped>\n",
              "    .dataframe tbody tr th:only-of-type {\n",
              "        vertical-align: middle;\n",
              "    }\n",
              "\n",
              "    .dataframe tbody tr th {\n",
              "        vertical-align: top;\n",
              "    }\n",
              "\n",
              "    .dataframe thead th {\n",
              "        text-align: right;\n",
              "    }\n",
              "</style>\n",
              "<table border=\"1\" class=\"dataframe\">\n",
              "  <thead>\n",
              "    <tr style=\"text-align: right;\">\n",
              "      <th></th>\n",
              "      <th>Patient_ID</th>\n",
              "      <th>Health_Camp_ID_x</th>\n",
              "      <th>Donation</th>\n",
              "      <th>Health_Score</th>\n",
              "      <th>Unnamed: 4</th>\n",
              "      <th>Online_Follower</th>\n",
              "      <th>LinkedIn_Shared</th>\n",
              "      <th>Twitter_Shared</th>\n",
              "      <th>Facebook_Shared</th>\n",
              "      <th>Category3</th>\n",
              "      <th>Health_Camp_ID_y</th>\n",
              "      <th>Health Score</th>\n",
              "      <th>Health_Camp_ID_x</th>\n",
              "      <th>Number_of_stall_visited_x</th>\n",
              "      <th>Last_Stall_Visited_Number_x</th>\n",
              "      <th>Health_Camp_ID_y</th>\n",
              "      <th>Number_of_stall_visited_y</th>\n",
              "      <th>Last_Stall_Visited_Number_y</th>\n",
              "    </tr>\n",
              "  </thead>\n",
              "  <tbody>\n",
              "    <tr>\n",
              "      <th>count</th>\n",
              "      <td>10032.000000</td>\n",
              "      <td>10032.000000</td>\n",
              "      <td>10032.000000</td>\n",
              "      <td>10032.000000</td>\n",
              "      <td>0.0</td>\n",
              "      <td>10032.000000</td>\n",
              "      <td>10032.000000</td>\n",
              "      <td>10032.000000</td>\n",
              "      <td>10032.000000</td>\n",
              "      <td>10032.000000</td>\n",
              "      <td>10032.000000</td>\n",
              "      <td>10032.000000</td>\n",
              "      <td>10032.000000</td>\n",
              "      <td>10032.000000</td>\n",
              "      <td>10032.000000</td>\n",
              "      <td>10032.000000</td>\n",
              "      <td>10032.000000</td>\n",
              "      <td>10032.000000</td>\n",
              "    </tr>\n",
              "    <tr>\n",
              "      <th>mean</th>\n",
              "      <td>507301.424242</td>\n",
              "      <td>6551.949262</td>\n",
              "      <td>32.412281</td>\n",
              "      <td>0.521779</td>\n",
              "      <td>NaN</td>\n",
              "      <td>0.163377</td>\n",
              "      <td>0.190291</td>\n",
              "      <td>0.151914</td>\n",
              "      <td>0.143341</td>\n",
              "      <td>1.989533</td>\n",
              "      <td>6536.213018</td>\n",
              "      <td>0.606351</td>\n",
              "      <td>6546.116029</td>\n",
              "      <td>3.246312</td>\n",
              "      <td>2.598585</td>\n",
              "      <td>6546.116029</td>\n",
              "      <td>3.246312</td>\n",
              "      <td>2.598585</td>\n",
              "    </tr>\n",
              "    <tr>\n",
              "      <th>std</th>\n",
              "      <td>12145.751904</td>\n",
              "      <td>17.523800</td>\n",
              "      <td>27.496155</td>\n",
              "      <td>0.282705</td>\n",
              "      <td>NaN</td>\n",
              "      <td>0.369728</td>\n",
              "      <td>0.392550</td>\n",
              "      <td>0.358955</td>\n",
              "      <td>0.350438</td>\n",
              "      <td>0.101774</td>\n",
              "      <td>11.145774</td>\n",
              "      <td>0.274431</td>\n",
              "      <td>22.829158</td>\n",
              "      <td>1.755813</td>\n",
              "      <td>1.557668</td>\n",
              "      <td>22.829158</td>\n",
              "      <td>1.755813</td>\n",
              "      <td>1.557668</td>\n",
              "    </tr>\n",
              "    <tr>\n",
              "      <th>min</th>\n",
              "      <td>485720.000000</td>\n",
              "      <td>6524.000000</td>\n",
              "      <td>10.000000</td>\n",
              "      <td>0.001667</td>\n",
              "      <td>NaN</td>\n",
              "      <td>0.000000</td>\n",
              "      <td>0.000000</td>\n",
              "      <td>0.000000</td>\n",
              "      <td>0.000000</td>\n",
              "      <td>1.000000</td>\n",
              "      <td>6523.000000</td>\n",
              "      <td>0.058993</td>\n",
              "      <td>6527.000000</td>\n",
              "      <td>0.000000</td>\n",
              "      <td>0.000000</td>\n",
              "      <td>6527.000000</td>\n",
              "      <td>0.000000</td>\n",
              "      <td>0.000000</td>\n",
              "    </tr>\n",
              "    <tr>\n",
              "      <th>25%</th>\n",
              "      <td>496684.000000</td>\n",
              "      <td>6538.000000</td>\n",
              "      <td>20.000000</td>\n",
              "      <td>0.295276</td>\n",
              "      <td>NaN</td>\n",
              "      <td>0.000000</td>\n",
              "      <td>0.000000</td>\n",
              "      <td>0.000000</td>\n",
              "      <td>0.000000</td>\n",
              "      <td>2.000000</td>\n",
              "      <td>6529.000000</td>\n",
              "      <td>0.374101</td>\n",
              "      <td>6527.000000</td>\n",
              "      <td>2.000000</td>\n",
              "      <td>1.000000</td>\n",
              "      <td>6527.000000</td>\n",
              "      <td>2.000000</td>\n",
              "      <td>1.000000</td>\n",
              "    </tr>\n",
              "    <tr>\n",
              "      <th>50%</th>\n",
              "      <td>508352.000000</td>\n",
              "      <td>6543.000000</td>\n",
              "      <td>30.000000</td>\n",
              "      <td>0.556962</td>\n",
              "      <td>NaN</td>\n",
              "      <td>0.000000</td>\n",
              "      <td>0.000000</td>\n",
              "      <td>0.000000</td>\n",
              "      <td>0.000000</td>\n",
              "      <td>2.000000</td>\n",
              "      <td>6534.000000</td>\n",
              "      <td>0.627865</td>\n",
              "      <td>6528.000000</td>\n",
              "      <td>3.000000</td>\n",
              "      <td>2.000000</td>\n",
              "      <td>6528.000000</td>\n",
              "      <td>3.000000</td>\n",
              "      <td>2.000000</td>\n",
              "    </tr>\n",
              "    <tr>\n",
              "      <th>75%</th>\n",
              "      <td>516956.000000</td>\n",
              "      <td>6570.000000</td>\n",
              "      <td>40.000000</td>\n",
              "      <td>0.753325</td>\n",
              "      <td>NaN</td>\n",
              "      <td>0.000000</td>\n",
              "      <td>0.000000</td>\n",
              "      <td>0.000000</td>\n",
              "      <td>0.000000</td>\n",
              "      <td>2.000000</td>\n",
              "      <td>6549.000000</td>\n",
              "      <td>0.861759</td>\n",
              "      <td>6578.000000</td>\n",
              "      <td>5.000000</td>\n",
              "      <td>4.000000</td>\n",
              "      <td>6578.000000</td>\n",
              "      <td>5.000000</td>\n",
              "      <td>4.000000</td>\n",
              "    </tr>\n",
              "    <tr>\n",
              "      <th>max</th>\n",
              "      <td>528589.000000</td>\n",
              "      <td>6586.000000</td>\n",
              "      <td>280.000000</td>\n",
              "      <td>1.000000</td>\n",
              "      <td>NaN</td>\n",
              "      <td>1.000000</td>\n",
              "      <td>1.000000</td>\n",
              "      <td>1.000000</td>\n",
              "      <td>1.000000</td>\n",
              "      <td>2.000000</td>\n",
              "      <td>6555.000000</td>\n",
              "      <td>1.000000</td>\n",
              "      <td>6578.000000</td>\n",
              "      <td>7.000000</td>\n",
              "      <td>6.000000</td>\n",
              "      <td>6578.000000</td>\n",
              "      <td>7.000000</td>\n",
              "      <td>6.000000</td>\n",
              "    </tr>\n",
              "  </tbody>\n",
              "</table>\n",
              "</div>"
            ],
            "text/plain": [
              "          Patient_ID  Health_Camp_ID_x      Donation  Health_Score  \\\n",
              "count   10032.000000      10032.000000  10032.000000  10032.000000   \n",
              "mean   507301.424242       6551.949262     32.412281      0.521779   \n",
              "std     12145.751904         17.523800     27.496155      0.282705   \n",
              "min    485720.000000       6524.000000     10.000000      0.001667   \n",
              "25%    496684.000000       6538.000000     20.000000      0.295276   \n",
              "50%    508352.000000       6543.000000     30.000000      0.556962   \n",
              "75%    516956.000000       6570.000000     40.000000      0.753325   \n",
              "max    528589.000000       6586.000000    280.000000      1.000000   \n",
              "\n",
              "       Unnamed: 4  Online_Follower  LinkedIn_Shared  Twitter_Shared  \\\n",
              "count         0.0     10032.000000     10032.000000    10032.000000   \n",
              "mean          NaN         0.163377         0.190291        0.151914   \n",
              "std           NaN         0.369728         0.392550        0.358955   \n",
              "min           NaN         0.000000         0.000000        0.000000   \n",
              "25%           NaN         0.000000         0.000000        0.000000   \n",
              "50%           NaN         0.000000         0.000000        0.000000   \n",
              "75%           NaN         0.000000         0.000000        0.000000   \n",
              "max           NaN         1.000000         1.000000        1.000000   \n",
              "\n",
              "       Facebook_Shared     Category3  Health_Camp_ID_y  Health Score  \\\n",
              "count     10032.000000  10032.000000      10032.000000  10032.000000   \n",
              "mean          0.143341      1.989533       6536.213018      0.606351   \n",
              "std           0.350438      0.101774         11.145774      0.274431   \n",
              "min           0.000000      1.000000       6523.000000      0.058993   \n",
              "25%           0.000000      2.000000       6529.000000      0.374101   \n",
              "50%           0.000000      2.000000       6534.000000      0.627865   \n",
              "75%           0.000000      2.000000       6549.000000      0.861759   \n",
              "max           1.000000      2.000000       6555.000000      1.000000   \n",
              "\n",
              "       Health_Camp_ID_x  Number_of_stall_visited_x  \\\n",
              "count      10032.000000               10032.000000   \n",
              "mean        6546.116029                   3.246312   \n",
              "std           22.829158                   1.755813   \n",
              "min         6527.000000                   0.000000   \n",
              "25%         6527.000000                   2.000000   \n",
              "50%         6528.000000                   3.000000   \n",
              "75%         6578.000000                   5.000000   \n",
              "max         6578.000000                   7.000000   \n",
              "\n",
              "       Last_Stall_Visited_Number_x  Health_Camp_ID_y  \\\n",
              "count                 10032.000000      10032.000000   \n",
              "mean                      2.598585       6546.116029   \n",
              "std                       1.557668         22.829158   \n",
              "min                       0.000000       6527.000000   \n",
              "25%                       1.000000       6527.000000   \n",
              "50%                       2.000000       6528.000000   \n",
              "75%                       4.000000       6578.000000   \n",
              "max                       6.000000       6578.000000   \n",
              "\n",
              "       Number_of_stall_visited_y  Last_Stall_Visited_Number_y  \n",
              "count               10032.000000                 10032.000000  \n",
              "mean                    3.246312                     2.598585  \n",
              "std                     1.755813                     1.557668  \n",
              "min                     0.000000                     0.000000  \n",
              "25%                     2.000000                     1.000000  \n",
              "50%                     3.000000                     2.000000  \n",
              "75%                     5.000000                     4.000000  \n",
              "max                     7.000000                     6.000000  "
            ]
          },
          "execution_count": 26,
          "metadata": {},
          "output_type": "execute_result"
        }
      ],
      "source": [
        "numerical_merged_cols.describe()"
      ]
    },
    {
      "cell_type": "code",
      "execution_count": null,
      "id": "5f244c02",
      "metadata": {
        "id": "5f244c02",
        "outputId": "9a81d7f1-d821-469b-979f-9494e31b1f7d"
      },
      "outputs": [
        {
          "data": {
            "text/html": [
              "<div>\n",
              "<style scoped>\n",
              "    .dataframe tbody tr th:only-of-type {\n",
              "        vertical-align: middle;\n",
              "    }\n",
              "\n",
              "    .dataframe tbody tr th {\n",
              "        vertical-align: top;\n",
              "    }\n",
              "\n",
              "    .dataframe thead th {\n",
              "        text-align: right;\n",
              "    }\n",
              "</style>\n",
              "<table border=\"1\" class=\"dataframe\">\n",
              "  <thead>\n",
              "    <tr style=\"text-align: right;\">\n",
              "      <th></th>\n",
              "      <th>Patient_ID</th>\n",
              "      <th>Health_Camp_ID_x</th>\n",
              "      <th>Donation</th>\n",
              "      <th>Health_Score</th>\n",
              "      <th>Unnamed: 4</th>\n",
              "      <th>Online_Follower</th>\n",
              "      <th>LinkedIn_Shared</th>\n",
              "      <th>Twitter_Shared</th>\n",
              "      <th>Facebook_Shared</th>\n",
              "      <th>Income</th>\n",
              "      <th>...</th>\n",
              "      <th>Category2</th>\n",
              "      <th>Category3</th>\n",
              "      <th>Health_Camp_ID_y</th>\n",
              "      <th>Health Score</th>\n",
              "      <th>Health_Camp_ID_x</th>\n",
              "      <th>Number_of_stall_visited_x</th>\n",
              "      <th>Last_Stall_Visited_Number_x</th>\n",
              "      <th>Health_Camp_ID_y</th>\n",
              "      <th>Number_of_stall_visited_y</th>\n",
              "      <th>Last_Stall_Visited_Number_y</th>\n",
              "    </tr>\n",
              "  </thead>\n",
              "  <tbody>\n",
              "    <tr>\n",
              "      <th>0</th>\n",
              "      <td>False</td>\n",
              "      <td>False</td>\n",
              "      <td>False</td>\n",
              "      <td>False</td>\n",
              "      <td>True</td>\n",
              "      <td>False</td>\n",
              "      <td>False</td>\n",
              "      <td>False</td>\n",
              "      <td>False</td>\n",
              "      <td>False</td>\n",
              "      <td>...</td>\n",
              "      <td>False</td>\n",
              "      <td>False</td>\n",
              "      <td>False</td>\n",
              "      <td>False</td>\n",
              "      <td>False</td>\n",
              "      <td>False</td>\n",
              "      <td>False</td>\n",
              "      <td>False</td>\n",
              "      <td>False</td>\n",
              "      <td>False</td>\n",
              "    </tr>\n",
              "    <tr>\n",
              "      <th>1</th>\n",
              "      <td>False</td>\n",
              "      <td>False</td>\n",
              "      <td>False</td>\n",
              "      <td>False</td>\n",
              "      <td>True</td>\n",
              "      <td>False</td>\n",
              "      <td>False</td>\n",
              "      <td>False</td>\n",
              "      <td>False</td>\n",
              "      <td>False</td>\n",
              "      <td>...</td>\n",
              "      <td>False</td>\n",
              "      <td>False</td>\n",
              "      <td>False</td>\n",
              "      <td>False</td>\n",
              "      <td>False</td>\n",
              "      <td>False</td>\n",
              "      <td>False</td>\n",
              "      <td>False</td>\n",
              "      <td>False</td>\n",
              "      <td>False</td>\n",
              "    </tr>\n",
              "    <tr>\n",
              "      <th>2</th>\n",
              "      <td>False</td>\n",
              "      <td>False</td>\n",
              "      <td>False</td>\n",
              "      <td>False</td>\n",
              "      <td>True</td>\n",
              "      <td>False</td>\n",
              "      <td>False</td>\n",
              "      <td>False</td>\n",
              "      <td>False</td>\n",
              "      <td>False</td>\n",
              "      <td>...</td>\n",
              "      <td>False</td>\n",
              "      <td>False</td>\n",
              "      <td>False</td>\n",
              "      <td>False</td>\n",
              "      <td>False</td>\n",
              "      <td>False</td>\n",
              "      <td>False</td>\n",
              "      <td>False</td>\n",
              "      <td>False</td>\n",
              "      <td>False</td>\n",
              "    </tr>\n",
              "    <tr>\n",
              "      <th>3</th>\n",
              "      <td>False</td>\n",
              "      <td>False</td>\n",
              "      <td>False</td>\n",
              "      <td>False</td>\n",
              "      <td>True</td>\n",
              "      <td>False</td>\n",
              "      <td>False</td>\n",
              "      <td>False</td>\n",
              "      <td>False</td>\n",
              "      <td>False</td>\n",
              "      <td>...</td>\n",
              "      <td>False</td>\n",
              "      <td>False</td>\n",
              "      <td>False</td>\n",
              "      <td>False</td>\n",
              "      <td>False</td>\n",
              "      <td>False</td>\n",
              "      <td>False</td>\n",
              "      <td>False</td>\n",
              "      <td>False</td>\n",
              "      <td>False</td>\n",
              "    </tr>\n",
              "    <tr>\n",
              "      <th>4</th>\n",
              "      <td>False</td>\n",
              "      <td>False</td>\n",
              "      <td>False</td>\n",
              "      <td>False</td>\n",
              "      <td>True</td>\n",
              "      <td>False</td>\n",
              "      <td>False</td>\n",
              "      <td>False</td>\n",
              "      <td>False</td>\n",
              "      <td>False</td>\n",
              "      <td>...</td>\n",
              "      <td>False</td>\n",
              "      <td>False</td>\n",
              "      <td>False</td>\n",
              "      <td>False</td>\n",
              "      <td>False</td>\n",
              "      <td>False</td>\n",
              "      <td>False</td>\n",
              "      <td>False</td>\n",
              "      <td>False</td>\n",
              "      <td>False</td>\n",
              "    </tr>\n",
              "    <tr>\n",
              "      <th>...</th>\n",
              "      <td>...</td>\n",
              "      <td>...</td>\n",
              "      <td>...</td>\n",
              "      <td>...</td>\n",
              "      <td>...</td>\n",
              "      <td>...</td>\n",
              "      <td>...</td>\n",
              "      <td>...</td>\n",
              "      <td>...</td>\n",
              "      <td>...</td>\n",
              "      <td>...</td>\n",
              "      <td>...</td>\n",
              "      <td>...</td>\n",
              "      <td>...</td>\n",
              "      <td>...</td>\n",
              "      <td>...</td>\n",
              "      <td>...</td>\n",
              "      <td>...</td>\n",
              "      <td>...</td>\n",
              "      <td>...</td>\n",
              "      <td>...</td>\n",
              "    </tr>\n",
              "    <tr>\n",
              "      <th>10027</th>\n",
              "      <td>False</td>\n",
              "      <td>False</td>\n",
              "      <td>False</td>\n",
              "      <td>False</td>\n",
              "      <td>True</td>\n",
              "      <td>False</td>\n",
              "      <td>False</td>\n",
              "      <td>False</td>\n",
              "      <td>False</td>\n",
              "      <td>False</td>\n",
              "      <td>...</td>\n",
              "      <td>False</td>\n",
              "      <td>False</td>\n",
              "      <td>False</td>\n",
              "      <td>False</td>\n",
              "      <td>False</td>\n",
              "      <td>False</td>\n",
              "      <td>False</td>\n",
              "      <td>False</td>\n",
              "      <td>False</td>\n",
              "      <td>False</td>\n",
              "    </tr>\n",
              "    <tr>\n",
              "      <th>10028</th>\n",
              "      <td>False</td>\n",
              "      <td>False</td>\n",
              "      <td>False</td>\n",
              "      <td>False</td>\n",
              "      <td>True</td>\n",
              "      <td>False</td>\n",
              "      <td>False</td>\n",
              "      <td>False</td>\n",
              "      <td>False</td>\n",
              "      <td>False</td>\n",
              "      <td>...</td>\n",
              "      <td>False</td>\n",
              "      <td>False</td>\n",
              "      <td>False</td>\n",
              "      <td>False</td>\n",
              "      <td>False</td>\n",
              "      <td>False</td>\n",
              "      <td>False</td>\n",
              "      <td>False</td>\n",
              "      <td>False</td>\n",
              "      <td>False</td>\n",
              "    </tr>\n",
              "    <tr>\n",
              "      <th>10029</th>\n",
              "      <td>False</td>\n",
              "      <td>False</td>\n",
              "      <td>False</td>\n",
              "      <td>False</td>\n",
              "      <td>True</td>\n",
              "      <td>False</td>\n",
              "      <td>False</td>\n",
              "      <td>False</td>\n",
              "      <td>False</td>\n",
              "      <td>False</td>\n",
              "      <td>...</td>\n",
              "      <td>False</td>\n",
              "      <td>False</td>\n",
              "      <td>False</td>\n",
              "      <td>False</td>\n",
              "      <td>False</td>\n",
              "      <td>False</td>\n",
              "      <td>False</td>\n",
              "      <td>False</td>\n",
              "      <td>False</td>\n",
              "      <td>False</td>\n",
              "    </tr>\n",
              "    <tr>\n",
              "      <th>10030</th>\n",
              "      <td>False</td>\n",
              "      <td>False</td>\n",
              "      <td>False</td>\n",
              "      <td>False</td>\n",
              "      <td>True</td>\n",
              "      <td>False</td>\n",
              "      <td>False</td>\n",
              "      <td>False</td>\n",
              "      <td>False</td>\n",
              "      <td>False</td>\n",
              "      <td>...</td>\n",
              "      <td>False</td>\n",
              "      <td>False</td>\n",
              "      <td>False</td>\n",
              "      <td>False</td>\n",
              "      <td>False</td>\n",
              "      <td>False</td>\n",
              "      <td>False</td>\n",
              "      <td>False</td>\n",
              "      <td>False</td>\n",
              "      <td>False</td>\n",
              "    </tr>\n",
              "    <tr>\n",
              "      <th>10031</th>\n",
              "      <td>False</td>\n",
              "      <td>False</td>\n",
              "      <td>False</td>\n",
              "      <td>False</td>\n",
              "      <td>True</td>\n",
              "      <td>False</td>\n",
              "      <td>False</td>\n",
              "      <td>False</td>\n",
              "      <td>False</td>\n",
              "      <td>False</td>\n",
              "      <td>...</td>\n",
              "      <td>False</td>\n",
              "      <td>False</td>\n",
              "      <td>False</td>\n",
              "      <td>False</td>\n",
              "      <td>False</td>\n",
              "      <td>False</td>\n",
              "      <td>False</td>\n",
              "      <td>False</td>\n",
              "      <td>False</td>\n",
              "      <td>False</td>\n",
              "    </tr>\n",
              "  </tbody>\n",
              "</table>\n",
              "<p>10032 rows × 28 columns</p>\n",
              "</div>"
            ],
            "text/plain": [
              "       Patient_ID  Health_Camp_ID_x  Donation  Health_Score  Unnamed: 4  \\\n",
              "0           False             False     False         False        True   \n",
              "1           False             False     False         False        True   \n",
              "2           False             False     False         False        True   \n",
              "3           False             False     False         False        True   \n",
              "4           False             False     False         False        True   \n",
              "...           ...               ...       ...           ...         ...   \n",
              "10027       False             False     False         False        True   \n",
              "10028       False             False     False         False        True   \n",
              "10029       False             False     False         False        True   \n",
              "10030       False             False     False         False        True   \n",
              "10031       False             False     False         False        True   \n",
              "\n",
              "       Online_Follower  LinkedIn_Shared  Twitter_Shared  Facebook_Shared  \\\n",
              "0                False            False           False            False   \n",
              "1                False            False           False            False   \n",
              "2                False            False           False            False   \n",
              "3                False            False           False            False   \n",
              "4                False            False           False            False   \n",
              "...                ...              ...             ...              ...   \n",
              "10027            False            False           False            False   \n",
              "10028            False            False           False            False   \n",
              "10029            False            False           False            False   \n",
              "10030            False            False           False            False   \n",
              "10031            False            False           False            False   \n",
              "\n",
              "       Income  ...  Category2  Category3  Health_Camp_ID_y  Health Score  \\\n",
              "0       False  ...      False      False             False         False   \n",
              "1       False  ...      False      False             False         False   \n",
              "2       False  ...      False      False             False         False   \n",
              "3       False  ...      False      False             False         False   \n",
              "4       False  ...      False      False             False         False   \n",
              "...       ...  ...        ...        ...               ...           ...   \n",
              "10027   False  ...      False      False             False         False   \n",
              "10028   False  ...      False      False             False         False   \n",
              "10029   False  ...      False      False             False         False   \n",
              "10030   False  ...      False      False             False         False   \n",
              "10031   False  ...      False      False             False         False   \n",
              "\n",
              "       Health_Camp_ID_x  Number_of_stall_visited_x  \\\n",
              "0                 False                      False   \n",
              "1                 False                      False   \n",
              "2                 False                      False   \n",
              "3                 False                      False   \n",
              "4                 False                      False   \n",
              "...                 ...                        ...   \n",
              "10027             False                      False   \n",
              "10028             False                      False   \n",
              "10029             False                      False   \n",
              "10030             False                      False   \n",
              "10031             False                      False   \n",
              "\n",
              "       Last_Stall_Visited_Number_x  Health_Camp_ID_y  \\\n",
              "0                            False             False   \n",
              "1                            False             False   \n",
              "2                            False             False   \n",
              "3                            False             False   \n",
              "4                            False             False   \n",
              "...                            ...               ...   \n",
              "10027                        False             False   \n",
              "10028                        False             False   \n",
              "10029                        False             False   \n",
              "10030                        False             False   \n",
              "10031                        False             False   \n",
              "\n",
              "       Number_of_stall_visited_y  Last_Stall_Visited_Number_y  \n",
              "0                          False                        False  \n",
              "1                          False                        False  \n",
              "2                          False                        False  \n",
              "3                          False                        False  \n",
              "4                          False                        False  \n",
              "...                          ...                          ...  \n",
              "10027                      False                        False  \n",
              "10028                      False                        False  \n",
              "10029                      False                        False  \n",
              "10030                      False                        False  \n",
              "10031                      False                        False  \n",
              "\n",
              "[10032 rows x 28 columns]"
            ]
          },
          "execution_count": 27,
          "metadata": {},
          "output_type": "execute_result"
        }
      ],
      "source": [
        "#shows no of values in each column that are null\n",
        "merged_details.isna()"
      ]
    },
    {
      "cell_type": "code",
      "execution_count": null,
      "id": "b86827b8",
      "metadata": {
        "id": "b86827b8",
        "outputId": "e812b507-8e4f-47b7-ee05-5c17ef465434"
      },
      "outputs": [
        {
          "data": {
            "text/plain": [
              "Patient_ID                         0\n",
              "Health_Camp_ID_x                   0\n",
              "Donation                           0\n",
              "Health_Score                       0\n",
              "Unnamed: 4                     10032\n",
              "Online_Follower                    0\n",
              "LinkedIn_Shared                    0\n",
              "Twitter_Shared                     0\n",
              "Facebook_Shared                    0\n",
              "Income                             0\n",
              "Education_Score                    0\n",
              "Age                                0\n",
              "First_Interaction                  0\n",
              "City_Type                       1132\n",
              "Employer_Category               3744\n",
              "Camp_Start_Date                    0\n",
              "Camp_End_Date                      0\n",
              "Category1                          0\n",
              "Category2                          0\n",
              "Category3                          0\n",
              "Health_Camp_ID_y                   0\n",
              "Health Score                       0\n",
              "Health_Camp_ID_x                   0\n",
              "Number_of_stall_visited_x          0\n",
              "Last_Stall_Visited_Number_x        0\n",
              "Health_Camp_ID_y                   0\n",
              "Number_of_stall_visited_y          0\n",
              "Last_Stall_Visited_Number_y        0\n",
              "dtype: int64"
            ]
          },
          "execution_count": 28,
          "metadata": {},
          "output_type": "execute_result"
        }
      ],
      "source": [
        "#This shows how many values in each column are missing\n",
        "merged_details.isna().sum()"
      ]
    },
    {
      "cell_type": "code",
      "execution_count": null,
      "id": "387f32ab",
      "metadata": {
        "id": "387f32ab",
        "outputId": "85a7c00e-0a9c-4ec6-befb-18f6e1ad29a9"
      },
      "outputs": [
        {
          "data": {
            "text/plain": [
              "Unnamed: 4                     100.000000\n",
              "Employer_Category               37.320574\n",
              "City_Type                       11.283892\n",
              "Camp_Start_Date                  0.000000\n",
              "Number_of_stall_visited_y        0.000000\n",
              "Health_Camp_ID_y                 0.000000\n",
              "Last_Stall_Visited_Number_x      0.000000\n",
              "Number_of_stall_visited_x        0.000000\n",
              "Health_Camp_ID_x                 0.000000\n",
              "Health Score                     0.000000\n",
              "Health_Camp_ID_y                 0.000000\n",
              "Category3                        0.000000\n",
              "Category2                        0.000000\n",
              "Category1                        0.000000\n",
              "Camp_End_Date                    0.000000\n",
              "Patient_ID                       0.000000\n",
              "Health_Camp_ID_x                 0.000000\n",
              "First_Interaction                0.000000\n",
              "Age                              0.000000\n",
              "Education_Score                  0.000000\n",
              "Income                           0.000000\n",
              "Facebook_Shared                  0.000000\n",
              "Twitter_Shared                   0.000000\n",
              "LinkedIn_Shared                  0.000000\n",
              "Online_Follower                  0.000000\n",
              "Health_Score                     0.000000\n",
              "Donation                         0.000000\n",
              "Last_Stall_Visited_Number_y      0.000000\n",
              "dtype: float64"
            ]
          },
          "execution_count": 29,
          "metadata": {},
          "output_type": "execute_result"
        }
      ],
      "source": [
        "#percentage of missing values in each column\n",
        "missing_percent = merged_details.isna().sum().sort_values(ascending=False)/len(merged_details)\n",
        "missing_percent*100"
      ]
    },
    {
      "cell_type": "code",
      "execution_count": null,
      "id": "05e39af7",
      "metadata": {
        "id": "05e39af7",
        "outputId": "8b28019d-1923-497a-8ac6-59510d3a3660"
      },
      "outputs": [
        {
          "data": {
            "text/plain": [
              "<AxesSubplot:>"
            ]
          },
          "execution_count": 30,
          "metadata": {},
          "output_type": "execute_result"
        },
        {
          "data": {
            "image/png": "[encoded data removed]",
            "text/plain": [
              "<Figure size 550x100 with 1 Axes>"
            ]
          },
          "metadata": {},
          "output_type": "display_data"
        }
      ],
      "source": [
        "#Plotting a visual of all missing values\n",
        "plt.figure(figsize=(5.5,1))\n",
        "missing_percent[missing_percent!=0].plot(kind='barh')"
      ]
    },
    {
      "cell_type": "code",
      "execution_count": null,
      "id": "0a615500",
      "metadata": {
        "id": "0a615500"
      },
      "outputs": [],
      "source": [
        "# Since Unamed:4 is missing all the time, we will drop this column. While others are present in atleast 60% rows so retaining them.\n",
        "merged_details2 = merged_details.drop('Unnamed: 4', axis=1, inplace=True)"
      ]
    },
    {
      "cell_type": "code",
      "execution_count": null,
      "id": "9fab9bc1",
      "metadata": {
        "id": "9fab9bc1",
        "outputId": "efacd20d-3d39-4e89-f677-e0839ac24742"
      },
      "outputs": [
        {
          "data": {
            "text/plain": [
              "Index(['Patient_ID', 'Health_Camp_ID_x', 'Donation', 'Health_Score',\n",
              "       'Online_Follower', 'LinkedIn_Shared', 'Twitter_Shared',\n",
              "       'Facebook_Shared', 'Income', 'Education_Score', 'Age',\n",
              "       'First_Interaction', 'City_Type', 'Employer_Category',\n",
              "       'Camp_Start_Date', 'Camp_End_Date', 'Category1', 'Category2',\n",
              "       'Category3', 'Health_Camp_ID_y', 'Health Score', 'Health_Camp_ID_x',\n",
              "       'Number_of_stall_visited_x', 'Last_Stall_Visited_Number_x',\n",
              "       'Health_Camp_ID_y', 'Number_of_stall_visited_y',\n",
              "       'Last_Stall_Visited_Number_y'],\n",
              "      dtype='object')"
            ]
          },
          "execution_count": 32,
          "metadata": {},
          "output_type": "execute_result"
        }
      ],
      "source": [
        "# Handling the missing data\n",
        "merged_details.columns"
      ]
    },
    {
      "cell_type": "code",
      "execution_count": null,
      "id": "824d3222",
      "metadata": {
        "id": "824d3222",
        "outputId": "bd2a068d-65ef-4df8-bd9a-439dc6f279b2"
      },
      "outputs": [
        {
          "data": {
            "text/plain": [
              "0        10\n",
              "1         7\n",
              "2         7\n",
              "3         4\n",
              "4        10\n",
              "         ..\n",
              "10027    12\n",
              "10028     6\n",
              "10029     9\n",
              "10030     9\n",
              "10031    12\n",
              "Name: Number_of_stall_visited, Length: 10032, dtype: int64"
            ]
          },
          "execution_count": 37,
          "metadata": {},
          "output_type": "execute_result"
        }
      ],
      "source": [
        "merged_details['Number_of_stall_visited'] = merged_details['Number_of_stall_visited_x'] + merged_details['Number_of_stall_visited_y']\n",
        "merged_details['Number_of_stall_visited']"
      ]
    },
    {
      "cell_type": "code",
      "execution_count": null,
      "id": "5214b494",
      "metadata": {
        "id": "5214b494",
        "outputId": "8580c323-3595-4935-cade-3ef9f3e33953"
      },
      "outputs": [
        {
          "data": {
            "text/html": [
              "<div>\n",
              "<style scoped>\n",
              "    .dataframe tbody tr th:only-of-type {\n",
              "        vertical-align: middle;\n",
              "    }\n",
              "\n",
              "    .dataframe tbody tr th {\n",
              "        vertical-align: top;\n",
              "    }\n",
              "\n",
              "    .dataframe thead th {\n",
              "        text-align: right;\n",
              "    }\n",
              "</style>\n",
              "<table border=\"1\" class=\"dataframe\">\n",
              "  <thead>\n",
              "    <tr style=\"text-align: right;\">\n",
              "      <th></th>\n",
              "      <th>Patient_ID</th>\n",
              "      <th>Donation</th>\n",
              "      <th>Health_Score</th>\n",
              "      <th>Income</th>\n",
              "      <th>Camp_Start_Date</th>\n",
              "      <th>Camp_End_Date</th>\n",
              "      <th>Health Score</th>\n",
              "      <th>Number_of_stall_visited</th>\n",
              "    </tr>\n",
              "  </thead>\n",
              "  <tbody>\n",
              "    <tr>\n",
              "      <th>0</th>\n",
              "      <td>494977</td>\n",
              "      <td>20</td>\n",
              "      <td>0.097561</td>\n",
              "      <td>2</td>\n",
              "      <td>16-Aug-03</td>\n",
              "      <td>20-Aug-03</td>\n",
              "      <td>0.673181</td>\n",
              "      <td>10</td>\n",
              "    </tr>\n",
              "    <tr>\n",
              "      <th>1</th>\n",
              "      <td>494977</td>\n",
              "      <td>20</td>\n",
              "      <td>0.097561</td>\n",
              "      <td>2</td>\n",
              "      <td>16-Aug-03</td>\n",
              "      <td>20-Aug-03</td>\n",
              "      <td>0.673181</td>\n",
              "      <td>7</td>\n",
              "    </tr>\n",
              "    <tr>\n",
              "      <th>2</th>\n",
              "      <td>494977</td>\n",
              "      <td>20</td>\n",
              "      <td>0.097561</td>\n",
              "      <td>2</td>\n",
              "      <td>16-Aug-03</td>\n",
              "      <td>20-Aug-03</td>\n",
              "      <td>0.673181</td>\n",
              "      <td>7</td>\n",
              "    </tr>\n",
              "    <tr>\n",
              "      <th>3</th>\n",
              "      <td>494977</td>\n",
              "      <td>20</td>\n",
              "      <td>0.097561</td>\n",
              "      <td>2</td>\n",
              "      <td>16-Aug-03</td>\n",
              "      <td>20-Aug-03</td>\n",
              "      <td>0.673181</td>\n",
              "      <td>4</td>\n",
              "    </tr>\n",
              "    <tr>\n",
              "      <th>4</th>\n",
              "      <td>494977</td>\n",
              "      <td>20</td>\n",
              "      <td>0.097561</td>\n",
              "      <td>2</td>\n",
              "      <td>16-Aug-03</td>\n",
              "      <td>20-Aug-03</td>\n",
              "      <td>0.615827</td>\n",
              "      <td>10</td>\n",
              "    </tr>\n",
              "    <tr>\n",
              "      <th>...</th>\n",
              "      <td>...</td>\n",
              "      <td>...</td>\n",
              "      <td>...</td>\n",
              "      <td>...</td>\n",
              "      <td>...</td>\n",
              "      <td>...</td>\n",
              "      <td>...</td>\n",
              "      <td>...</td>\n",
              "    </tr>\n",
              "    <tr>\n",
              "      <th>10027</th>\n",
              "      <td>520328</td>\n",
              "      <td>20</td>\n",
              "      <td>0.092593</td>\n",
              "      <td>None</td>\n",
              "      <td>13-May-05</td>\n",
              "      <td>21-May-05</td>\n",
              "      <td>0.552962</td>\n",
              "      <td>12</td>\n",
              "    </tr>\n",
              "    <tr>\n",
              "      <th>10028</th>\n",
              "      <td>517824</td>\n",
              "      <td>20</td>\n",
              "      <td>0.648148</td>\n",
              "      <td>None</td>\n",
              "      <td>13-May-05</td>\n",
              "      <td>21-May-05</td>\n",
              "      <td>0.610190</td>\n",
              "      <td>6</td>\n",
              "    </tr>\n",
              "    <tr>\n",
              "      <th>10029</th>\n",
              "      <td>517824</td>\n",
              "      <td>20</td>\n",
              "      <td>0.648148</td>\n",
              "      <td>None</td>\n",
              "      <td>13-May-05</td>\n",
              "      <td>21-May-05</td>\n",
              "      <td>0.610190</td>\n",
              "      <td>9</td>\n",
              "    </tr>\n",
              "    <tr>\n",
              "      <th>10030</th>\n",
              "      <td>517824</td>\n",
              "      <td>20</td>\n",
              "      <td>0.648148</td>\n",
              "      <td>None</td>\n",
              "      <td>13-May-05</td>\n",
              "      <td>21-May-05</td>\n",
              "      <td>0.610190</td>\n",
              "      <td>9</td>\n",
              "    </tr>\n",
              "    <tr>\n",
              "      <th>10031</th>\n",
              "      <td>517824</td>\n",
              "      <td>20</td>\n",
              "      <td>0.648148</td>\n",
              "      <td>None</td>\n",
              "      <td>13-May-05</td>\n",
              "      <td>21-May-05</td>\n",
              "      <td>0.610190</td>\n",
              "      <td>12</td>\n",
              "    </tr>\n",
              "  </tbody>\n",
              "</table>\n",
              "<p>10032 rows × 8 columns</p>\n",
              "</div>"
            ],
            "text/plain": [
              "       Patient_ID  Donation  Health_Score Income Camp_Start_Date  \\\n",
              "0          494977        20      0.097561      2       16-Aug-03   \n",
              "1          494977        20      0.097561      2       16-Aug-03   \n",
              "2          494977        20      0.097561      2       16-Aug-03   \n",
              "3          494977        20      0.097561      2       16-Aug-03   \n",
              "4          494977        20      0.097561      2       16-Aug-03   \n",
              "...           ...       ...           ...    ...             ...   \n",
              "10027      520328        20      0.092593   None       13-May-05   \n",
              "10028      517824        20      0.648148   None       13-May-05   \n",
              "10029      517824        20      0.648148   None       13-May-05   \n",
              "10030      517824        20      0.648148   None       13-May-05   \n",
              "10031      517824        20      0.648148   None       13-May-05   \n",
              "\n",
              "      Camp_End_Date  Health Score  Number_of_stall_visited  \n",
              "0         20-Aug-03      0.673181                       10  \n",
              "1         20-Aug-03      0.673181                        7  \n",
              "2         20-Aug-03      0.673181                        7  \n",
              "3         20-Aug-03      0.673181                        4  \n",
              "4         20-Aug-03      0.615827                       10  \n",
              "...             ...           ...                      ...  \n",
              "10027     21-May-05      0.552962                       12  \n",
              "10028     21-May-05      0.610190                        6  \n",
              "10029     21-May-05      0.610190                        9  \n",
              "10030     21-May-05      0.610190                        9  \n",
              "10031     21-May-05      0.610190                       12  \n",
              "\n",
              "[10032 rows x 8 columns]"
            ]
          },
          "execution_count": 38,
          "metadata": {},
          "output_type": "execute_result"
        }
      ],
      "source": [
        "# we're choosing the important columns that may give us meaningful results\n",
        "imp_col = ['Patient_ID', 'Donation', 'Health_Score',  'Income', 'Camp_Start_Date', 'Camp_End_Date', 'Health Score', 'Number_of_stall_visited']\n",
        "merged_details[imp_col]"
      ]
    },
    {
      "cell_type": "code",
      "execution_count": null,
      "id": "db46c3a8",
      "metadata": {
        "id": "db46c3a8",
        "outputId": "517338ff-7160-4048-8793-4a7c92472add"
      },
      "outputs": [
        {
          "data": {
            "text/plain": [
              "0        0.770742\n",
              "1        0.770742\n",
              "2        0.770742\n",
              "3        0.770742\n",
              "4        0.713388\n",
              "           ...   \n",
              "10027    0.645555\n",
              "10028    1.258338\n",
              "10029    1.258338\n",
              "10030    1.258338\n",
              "10031    1.258338\n",
              "Name: health, Length: 10032, dtype: float64"
            ]
          },
          "execution_count": 34,
          "metadata": {},
          "output_type": "execute_result"
        }
      ],
      "source": [
        "# Since health score has two different columns, will add them\n",
        "merged_details['health'] = merged_details['Health Score'] + merged_details['Health_Score']\n",
        "merged_details['health']"
      ]
    },
    {
      "cell_type": "code",
      "execution_count": null,
      "id": "afbd8eab",
      "metadata": {
        "id": "afbd8eab"
      },
      "outputs": [],
      "source": [
        "imp_cols_pred = ['Donation', 'health',  'Income', 'Number_of_stall_visited', 'Employer_Category', 'City_Type']"
      ]
    },
    {
      "cell_type": "code",
      "execution_count": null,
      "id": "cde45a85",
      "metadata": {
        "id": "cde45a85",
        "outputId": "fabaa840-b0f5-415d-d08f-3a016187696e"
      },
      "outputs": [
        {
          "data": {
            "text/html": [
              "<div>\n",
              "<style scoped>\n",
              "    .dataframe tbody tr th:only-of-type {\n",
              "        vertical-align: middle;\n",
              "    }\n",
              "\n",
              "    .dataframe tbody tr th {\n",
              "        vertical-align: top;\n",
              "    }\n",
              "\n",
              "    .dataframe thead th {\n",
              "        text-align: right;\n",
              "    }\n",
              "</style>\n",
              "<table border=\"1\" class=\"dataframe\">\n",
              "  <thead>\n",
              "    <tr style=\"text-align: right;\">\n",
              "      <th></th>\n",
              "      <th>Donation</th>\n",
              "      <th>health</th>\n",
              "      <th>Income</th>\n",
              "      <th>Number_of_stall_visited</th>\n",
              "      <th>Employer_Category</th>\n",
              "      <th>City_Type</th>\n",
              "    </tr>\n",
              "  </thead>\n",
              "  <tbody>\n",
              "    <tr>\n",
              "      <th>0</th>\n",
              "      <td>20</td>\n",
              "      <td>0.770742</td>\n",
              "      <td>2</td>\n",
              "      <td>10</td>\n",
              "      <td>Transport</td>\n",
              "      <td>H</td>\n",
              "    </tr>\n",
              "    <tr>\n",
              "      <th>1</th>\n",
              "      <td>20</td>\n",
              "      <td>0.770742</td>\n",
              "      <td>2</td>\n",
              "      <td>7</td>\n",
              "      <td>Transport</td>\n",
              "      <td>H</td>\n",
              "    </tr>\n",
              "    <tr>\n",
              "      <th>2</th>\n",
              "      <td>20</td>\n",
              "      <td>0.770742</td>\n",
              "      <td>2</td>\n",
              "      <td>7</td>\n",
              "      <td>Transport</td>\n",
              "      <td>H</td>\n",
              "    </tr>\n",
              "    <tr>\n",
              "      <th>3</th>\n",
              "      <td>20</td>\n",
              "      <td>0.770742</td>\n",
              "      <td>2</td>\n",
              "      <td>4</td>\n",
              "      <td>Transport</td>\n",
              "      <td>H</td>\n",
              "    </tr>\n",
              "    <tr>\n",
              "      <th>4</th>\n",
              "      <td>20</td>\n",
              "      <td>0.713388</td>\n",
              "      <td>2</td>\n",
              "      <td>10</td>\n",
              "      <td>Transport</td>\n",
              "      <td>H</td>\n",
              "    </tr>\n",
              "  </tbody>\n",
              "</table>\n",
              "</div>"
            ],
            "text/plain": [
              "   Donation    health Income  Number_of_stall_visited Employer_Category  \\\n",
              "0        20  0.770742      2                       10         Transport   \n",
              "1        20  0.770742      2                        7         Transport   \n",
              "2        20  0.770742      2                        7         Transport   \n",
              "3        20  0.770742      2                        4         Transport   \n",
              "4        20  0.713388      2                       10         Transport   \n",
              "\n",
              "  City_Type  \n",
              "0         H  \n",
              "1         H  \n",
              "2         H  \n",
              "3         H  \n",
              "4         H  "
            ]
          },
          "execution_count": 39,
          "metadata": {},
          "output_type": "execute_result"
        }
      ],
      "source": [
        "useful_details = merged_details[imp_cols_pred]\n",
        "useful_details.head()"
      ]
    },
    {
      "cell_type": "code",
      "execution_count": null,
      "id": "69c0d911",
      "metadata": {
        "id": "69c0d911",
        "outputId": "d63498c6-ea03-4b4f-aac1-119bc4e2ccd3"
      },
      "outputs": [
        {
          "name": "stdout",
          "output_type": "stream",
          "text": [
            "<class 'pandas.core.frame.DataFrame'>\n",
            "Int64Index: 10032 entries, 0 to 10031\n",
            "Data columns (total 6 columns):\n",
            " #   Column                   Non-Null Count  Dtype  \n",
            "---  ------                   --------------  -----  \n",
            " 0   Donation                 10032 non-null  int64  \n",
            " 1   health                   10032 non-null  float64\n",
            " 2   Income                   10032 non-null  object \n",
            " 3   Number_of_stall_visited  10032 non-null  int64  \n",
            " 4   Employer_Category        6288 non-null   object \n",
            " 5   City_Type                8900 non-null   object \n",
            "dtypes: float64(1), int64(2), object(3)\n",
            "memory usage: 548.6+ KB\n"
          ]
        }
      ],
      "source": [
        "useful_details.info()"
      ]
    },
    {
      "cell_type": "code",
      "execution_count": null,
      "id": "22564a48",
      "metadata": {
        "scrolled": true,
        "id": "22564a48",
        "outputId": "8a18a6d5-30f3-4f47-dd81-16c1ae311be2"
      },
      "outputs": [
        {
          "data": {
            "text/plain": [
              "0    Technology\n",
              "Name: Employer_Category, dtype: object"
            ]
          },
          "execution_count": 41,
          "metadata": {},
          "output_type": "execute_result"
        }
      ],
      "source": [
        "useful_details['Employer_Category'].mode()"
      ]
    },
    {
      "cell_type": "code",
      "execution_count": null,
      "id": "08f29d57",
      "metadata": {
        "id": "08f29d57",
        "outputId": "ad135a04-84fe-4e3b-e326-8912bd9c85eb"
      },
      "outputs": [
        {
          "data": {
            "text/plain": [
              "0    B\n",
              "Name: City_Type, dtype: object"
            ]
          },
          "execution_count": 42,
          "metadata": {},
          "output_type": "execute_result"
        }
      ],
      "source": [
        "useful_details['City_Type'].mode()"
      ]
    },
    {
      "cell_type": "code",
      "execution_count": null,
      "id": "d8a583ed",
      "metadata": {
        "id": "d8a583ed",
        "outputId": "d342d695-2b53-435e-a22d-b248584e5147"
      },
      "outputs": [
        {
          "name": "stderr",
          "output_type": "stream",
          "text": [
            "C:\\Users\\harsh\\AppData\\Local\\Temp\\ipykernel_14748\\2785768112.py:1: SettingWithCopyWarning: \n",
            "A value is trying to be set on a copy of a slice from a DataFrame\n",
            "\n",
            "See the caveats in the documentation: https://pandas.pydata.org/pandas-docs/stable/user_guide/indexing.html#returning-a-view-versus-a-copy\n",
            "  useful_details.City_Type.fillna('H', inplace=True)\n"
          ]
        }
      ],
      "source": [
        "useful_details.City_Type.fillna('H', inplace=True)"
      ]
    },
    {
      "cell_type": "code",
      "execution_count": null,
      "id": "36c63acc",
      "metadata": {
        "id": "36c63acc",
        "outputId": "4e5c16ca-5a7d-4e5d-8f58-92b8726f3743"
      },
      "outputs": [
        {
          "name": "stderr",
          "output_type": "stream",
          "text": [
            "C:\\Users\\harsh\\AppData\\Local\\Temp\\ipykernel_14748\\3644513965.py:1: SettingWithCopyWarning: \n",
            "A value is trying to be set on a copy of a slice from a DataFrame\n",
            "\n",
            "See the caveats in the documentation: https://pandas.pydata.org/pandas-docs/stable/user_guide/indexing.html#returning-a-view-versus-a-copy\n",
            "  useful_details.Employer_Category.fillna('Technology', inplace = True)\n"
          ]
        }
      ],
      "source": [
        "useful_details.Employer_Category.fillna('Technology', inplace = True)"
      ]
    },
    {
      "cell_type": "code",
      "execution_count": null,
      "id": "91471cd3",
      "metadata": {
        "scrolled": true,
        "id": "91471cd3",
        "outputId": "c93d82ef-59b7-434f-d654-d91e8c2d2302"
      },
      "outputs": [
        {
          "data": {
            "text/html": [
              "<div>\n",
              "<style scoped>\n",
              "    .dataframe tbody tr th:only-of-type {\n",
              "        vertical-align: middle;\n",
              "    }\n",
              "\n",
              "    .dataframe tbody tr th {\n",
              "        vertical-align: top;\n",
              "    }\n",
              "\n",
              "    .dataframe thead th {\n",
              "        text-align: right;\n",
              "    }\n",
              "</style>\n",
              "<table border=\"1\" class=\"dataframe\">\n",
              "  <thead>\n",
              "    <tr style=\"text-align: right;\">\n",
              "      <th></th>\n",
              "      <th>Donation</th>\n",
              "      <th>health</th>\n",
              "      <th>Income</th>\n",
              "      <th>Number_of_stall_visited</th>\n",
              "      <th>Employer_Category</th>\n",
              "      <th>City_Type</th>\n",
              "    </tr>\n",
              "  </thead>\n",
              "  <tbody>\n",
              "    <tr>\n",
              "      <th>0</th>\n",
              "      <td>20</td>\n",
              "      <td>0.770742</td>\n",
              "      <td>2</td>\n",
              "      <td>10</td>\n",
              "      <td>Transport</td>\n",
              "      <td>H</td>\n",
              "    </tr>\n",
              "    <tr>\n",
              "      <th>1</th>\n",
              "      <td>20</td>\n",
              "      <td>0.770742</td>\n",
              "      <td>2</td>\n",
              "      <td>7</td>\n",
              "      <td>Transport</td>\n",
              "      <td>H</td>\n",
              "    </tr>\n",
              "    <tr>\n",
              "      <th>2</th>\n",
              "      <td>20</td>\n",
              "      <td>0.770742</td>\n",
              "      <td>2</td>\n",
              "      <td>7</td>\n",
              "      <td>Transport</td>\n",
              "      <td>H</td>\n",
              "    </tr>\n",
              "    <tr>\n",
              "      <th>3</th>\n",
              "      <td>20</td>\n",
              "      <td>0.770742</td>\n",
              "      <td>2</td>\n",
              "      <td>4</td>\n",
              "      <td>Transport</td>\n",
              "      <td>H</td>\n",
              "    </tr>\n",
              "    <tr>\n",
              "      <th>4</th>\n",
              "      <td>20</td>\n",
              "      <td>0.713388</td>\n",
              "      <td>2</td>\n",
              "      <td>10</td>\n",
              "      <td>Transport</td>\n",
              "      <td>H</td>\n",
              "    </tr>\n",
              "  </tbody>\n",
              "</table>\n",
              "</div>"
            ],
            "text/plain": [
              "   Donation    health Income  Number_of_stall_visited Employer_Category  \\\n",
              "0        20  0.770742      2                       10         Transport   \n",
              "1        20  0.770742      2                        7         Transport   \n",
              "2        20  0.770742      2                        7         Transport   \n",
              "3        20  0.770742      2                        4         Transport   \n",
              "4        20  0.713388      2                       10         Transport   \n",
              "\n",
              "  City_Type  \n",
              "0         H  \n",
              "1         H  \n",
              "2         H  \n",
              "3         H  \n",
              "4         H  "
            ]
          },
          "execution_count": 45,
          "metadata": {},
          "output_type": "execute_result"
        }
      ],
      "source": [
        "# checking some key parameters like income, donation, no of stalls visited and health\n",
        "useful_details.head()"
      ]
    },
    {
      "cell_type": "code",
      "execution_count": null,
      "id": "2de6a3d5",
      "metadata": {
        "id": "2de6a3d5",
        "outputId": "3ea976fa-6fd8-4fb7-f8c2-2fb611da936f"
      },
      "outputs": [
        {
          "name": "stdout",
          "output_type": "stream",
          "text": [
            "<class 'pandas.core.frame.DataFrame'>\n",
            "Int64Index: 10032 entries, 0 to 10031\n",
            "Data columns (total 6 columns):\n",
            " #   Column                   Non-Null Count  Dtype  \n",
            "---  ------                   --------------  -----  \n",
            " 0   Donation                 10032 non-null  int64  \n",
            " 1   health                   10032 non-null  float64\n",
            " 2   Income                   10032 non-null  object \n",
            " 3   Number_of_stall_visited  10032 non-null  int64  \n",
            " 4   Employer_Category        10032 non-null  object \n",
            " 5   City_Type                10032 non-null  object \n",
            "dtypes: float64(1), int64(2), object(3)\n",
            "memory usage: 548.6+ KB\n"
          ]
        }
      ],
      "source": [
        "useful_details.info()"
      ]
    },
    {
      "cell_type": "code",
      "execution_count": null,
      "id": "854bc68f",
      "metadata": {
        "id": "854bc68f",
        "outputId": "cf1c9277-c1ce-4d31-8524-eab943b010f8"
      },
      "outputs": [
        {
          "data": {
            "text/plain": [
              "count    10032.000000\n",
              "mean        32.412281\n",
              "std         27.496155\n",
              "min         10.000000\n",
              "25%         20.000000\n",
              "50%         30.000000\n",
              "75%         40.000000\n",
              "max        280.000000\n",
              "Name: Donation, dtype: float64"
            ]
          },
          "execution_count": 47,
          "metadata": {},
          "output_type": "execute_result"
        }
      ],
      "source": [
        "useful_details.Donation.describe()"
      ]
    },
    {
      "cell_type": "code",
      "execution_count": null,
      "id": "304a9dca",
      "metadata": {
        "id": "304a9dca",
        "outputId": "61f840c1-d165-499f-bfbc-8e34caa86127"
      },
      "outputs": [
        {
          "data": {
            "text/plain": [
              "count    10032.000000\n",
              "mean         1.128130\n",
              "std          0.418478\n",
              "min          0.077326\n",
              "25%          0.835737\n",
              "50%          1.139856\n",
              "75%          1.439409\n",
              "max          1.985676\n",
              "Name: health, dtype: float64"
            ]
          },
          "execution_count": 48,
          "metadata": {},
          "output_type": "execute_result"
        }
      ],
      "source": [
        "useful_details.health.describe()"
      ]
    },
    {
      "cell_type": "code",
      "execution_count": null,
      "id": "0d563192",
      "metadata": {
        "id": "0d563192",
        "outputId": "b9f87cc8-c61d-4021-b943-736c0a769f83"
      },
      "outputs": [
        {
          "data": {
            "text/plain": [
              "count     10032\n",
              "unique        8\n",
              "top           1\n",
              "freq       2636\n",
              "Name: Income, dtype: object"
            ]
          },
          "execution_count": 49,
          "metadata": {},
          "output_type": "execute_result"
        }
      ],
      "source": [
        "useful_details.Income.describe()"
      ]
    },
    {
      "cell_type": "code",
      "execution_count": null,
      "id": "6a65d00b",
      "metadata": {
        "id": "6a65d00b",
        "outputId": "b95d80bc-3f05-42e8-aba2-441c9ed1001f"
      },
      "outputs": [
        {
          "data": {
            "text/plain": [
              "count    10032.000000\n",
              "mean         6.492624\n",
              "std          3.039229\n",
              "min          0.000000\n",
              "25%          4.000000\n",
              "50%          6.000000\n",
              "75%          9.000000\n",
              "max         14.000000\n",
              "Name: Number_of_stall_visited, dtype: float64"
            ]
          },
          "execution_count": 50,
          "metadata": {},
          "output_type": "execute_result"
        }
      ],
      "source": [
        "useful_details.Number_of_stall_visited.describe()"
      ]
    },
    {
      "cell_type": "code",
      "execution_count": null,
      "id": "bb25cee2",
      "metadata": {
        "id": "bb25cee2",
        "outputId": "3e81e271-92e1-4883-ef8f-b4f0f7a1d16a"
      },
      "outputs": [
        {
          "data": {
            "text/plain": [
              "count     10032\n",
              "unique        9\n",
              "top           H\n",
              "freq       2420\n",
              "Name: City_Type, dtype: object"
            ]
          },
          "execution_count": 51,
          "metadata": {},
          "output_type": "execute_result"
        }
      ],
      "source": [
        "useful_details.City_Type.describe()"
      ]
    },
    {
      "cell_type": "markdown",
      "id": "5688d19d",
      "metadata": {
        "id": "5688d19d"
      },
      "source": [
        "## Visualisation"
      ]
    },
    {
      "cell_type": "code",
      "execution_count": null,
      "id": "825901b2",
      "metadata": {
        "id": "825901b2",
        "outputId": "6458cf6e-1c18-41ae-e37a-d05023d2874b"
      },
      "outputs": [
        {
          "data": {
            "image/png": "[encoded data removed]",
            "text/plain": [
              "<Figure size 640x480 with 1 Axes>"
            ]
          },
          "metadata": {},
          "output_type": "display_data"
        },
        {
          "data": {
            "image/png": "[encoded data removed]",
            "text/plain": [
              "<Figure size 640x480 with 1 Axes>"
            ]
          },
          "metadata": {},
          "output_type": "display_data"
        },
        {
          "data": {
            "image/png": "[encoded data removed]",
            "text/plain": [
              "<Figure size 640x480 with 1 Axes>"
            ]
          },
          "metadata": {},
          "output_type": "display_data"
        },
        {
          "data": {
            "image/png": "[encoded data removed]",
            "text/plain": [
              "<Figure size 640x480 with 1 Axes>"
            ]
          },
          "metadata": {},
          "output_type": "display_data"
        },
        {
          "data": {
            "image/png": "[encoded data removed]",
            "text/plain": [
              "<Figure size 640x480 with 1 Axes>"
            ]
          },
          "metadata": {},
          "output_type": "display_data"
        },
        {
          "data": {
            "image/png": "[encoded data removed]",
            "text/plain": [
              "<Figure size 640x480 with 1 Axes>"
            ]
          },
          "metadata": {},
          "output_type": "display_data"
        }
      ],
      "source": [
        "for col in useful_details.columns:\n",
        "    if useful_details[col].dtype == 'int64':\n",
        "        plt.pie(useful_details[col].value_counts(), labels=useful_details[col].unique())\n",
        "        plt.title('Piechart for {}'.format(col))\n",
        "        plt.show()\n",
        "    else:\n",
        "        plt.hist(useful_details[col].value_counts())\n",
        "        plt.title('Histogram for {}'.format(col))\n",
        "        plt.show();"
      ]
    },
    {
      "cell_type": "code",
      "execution_count": null,
      "id": "2bbbc72e",
      "metadata": {
        "id": "2bbbc72e",
        "outputId": "0ad68729-a1db-4490-ef46-a94d2c1d13b7"
      },
      "outputs": [
        {
          "data": {
            "text/plain": [
              "<Figure size 5000x3000 with 0 Axes>"
            ]
          },
          "execution_count": 53,
          "metadata": {},
          "output_type": "execute_result"
        },
        {
          "data": {
            "image/png": "[encoded data removed]",
            "text/plain": [
              "<Figure size 640x480 with 1 Axes>"
            ]
          },
          "metadata": {},
          "output_type": "display_data"
        },
        {
          "data": {
            "text/plain": [
              "<Figure size 5000x3000 with 0 Axes>"
            ]
          },
          "metadata": {},
          "output_type": "display_data"
        }
      ],
      "source": [
        "plt.scatter(x=useful_details['Employer_Category'] , y=useful_details['health'], s =100)\n",
        "plt.figure(figsize=(50,30))"
      ]
    },
    {
      "cell_type": "code",
      "execution_count": null,
      "id": "c55bee2a",
      "metadata": {
        "id": "c55bee2a",
        "outputId": "c685d711-1c26-4fab-ae00-4d81d502370b"
      },
      "outputs": [
        {
          "data": {
            "text/plain": [
              "<matplotlib.collections.PathCollection at 0x1cb29d5eaf0>"
            ]
          },
          "execution_count": 54,
          "metadata": {},
          "output_type": "execute_result"
        },
        {
          "data": {
            "image/png": "[encoded data removed]",
            "text/plain": [
              "<Figure size 640x480 with 1 Axes>"
            ]
          },
          "metadata": {},
          "output_type": "display_data"
        }
      ],
      "source": [
        "plt.scatter(x=useful_details['Income'], y=useful_details['health'], s = 75)"
      ]
    },
    {
      "cell_type": "code",
      "execution_count": null,
      "id": "55925410",
      "metadata": {
        "id": "55925410",
        "outputId": "88f43d73-3f8c-4985-d994-57c69e28a9d8"
      },
      "outputs": [
        {
          "data": {
            "image/png": "[encoded data removed]",
            "text/plain": [
              "<Figure size 640x480 with 1 Axes>"
            ]
          },
          "metadata": {},
          "output_type": "display_data"
        }
      ],
      "source": [
        "sns.violinplot(y = merged_details['health'], x = merged_details['Camp_Start_Date'])\n",
        "sns.set(rc={\"figure.figsize\":(200,3)})"
      ]
    },
    {
      "cell_type": "code",
      "execution_count": null,
      "id": "16ec37e0",
      "metadata": {
        "id": "16ec37e0",
        "outputId": "efef0b5d-a474-41be-b6eb-c7a25bccffac"
      },
      "outputs": [
        {
          "data": {
            "text/plain": [
              "<seaborn.axisgrid.JointGrid at 0x1cb2a3f3c10>"
            ]
          },
          "execution_count": 56,
          "metadata": {},
          "output_type": "execute_result"
        },
        {
          "data": {
            "image/png": "[encoded data removed]",
            "text/plain": [
              "<Figure size 600x600 with 3 Axes>"
            ]
          },
          "metadata": {},
          "output_type": "display_data"
        }
      ],
      "source": [
        "sns.jointplot(x=merged_details['LinkedIn_Shared'], y=merged_details['Twitter_Shared'], data = merged_details['health'], kind = 'scatter')"
      ]
    },
    {
      "cell_type": "code",
      "execution_count": null,
      "id": "f0b27c9d",
      "metadata": {
        "id": "f0b27c9d"
      },
      "outputs": [],
      "source": [
        "merged_dumm=pd.get_dummies(merged_details, prefix=None, prefix_sep=\"_\",drop_first=False)"
      ]
    },
    {
      "cell_type": "code",
      "execution_count": null,
      "id": "dc8413a8",
      "metadata": {
        "id": "dc8413a8",
        "outputId": "20a86f0f-ad41-40dc-c520-6dd443c5170e"
      },
      "outputs": [
        {
          "data": {
            "text/plain": [
              "(10032, 657)"
            ]
          },
          "execution_count": 58,
          "metadata": {},
          "output_type": "execute_result"
        }
      ],
      "source": [
        "x=merged_dumm.iloc[:,:-1]\n",
        "y=merged_dumm.health\n",
        "x.shape"
      ]
    },
    {
      "cell_type": "code",
      "execution_count": null,
      "id": "caf62ebb",
      "metadata": {
        "id": "caf62ebb"
      },
      "outputs": [],
      "source": [
        "from sklearn.model_selection import train_test_split"
      ]
    },
    {
      "cell_type": "code",
      "execution_count": null,
      "id": "3802210d",
      "metadata": {
        "id": "3802210d"
      },
      "outputs": [],
      "source": [
        "x_train,x_test,y_train,y_test = train_test_split(x,y,test_size = .3,random_state =23)\n",
        "from sklearn.linear_model import LinearRegression\n",
        "model=LinearRegression()\n",
        "model=model.fit(x_train,y_train)\n",
        "rsq=model.score(x_train,y_train)"
      ]
    },
    {
      "cell_type": "code",
      "execution_count": null,
      "id": "1fa5b0a9",
      "metadata": {
        "id": "1fa5b0a9",
        "outputId": "38a4f50a-8564-404c-a11d-0473ba880481"
      },
      "outputs": [
        {
          "data": {
            "text/plain": [
              "1.0"
            ]
          },
          "execution_count": 62,
          "metadata": {},
          "output_type": "execute_result"
        }
      ],
      "source": [
        "rsq=model.score(x_test,y_test)\n",
        "rsq"
      ]
    }
  ],
  "metadata": {
    "kernelspec": {
      "display_name": "Python 3 (ipykernel)",
      "language": "python",
      "name": "python3"
    },
    "language_info": {
      "codemirror_mode": {
        "name": "ipython",
        "version": 3
      },
      "file_extension": ".py",
      "mimetype": "text/x-python",
      "name": "python",
      "nbconvert_exporter": "python",
      "pygments_lexer": "ipython3",
      "version": "3.9.13"
    },
    "colab": {
      "provenance": [],
      "include_colab_link": true
    }
  },
  "nbformat": 4,
  "nbformat_minor": 5
}